{
 "cells": [
  {
   "cell_type": "code",
   "execution_count": 1,
   "metadata": {
    "collapsed": true
   },
   "outputs": [],
   "source": [
    "import tensorflow as tf\n",
    "import numpy as np\n",
    "import matplotlib.pyplot as plt\n",
    "import seaborn as sns\n",
    "\n",
    "import draw"
   ]
  },
  {
   "cell_type": "code",
   "execution_count": 241,
   "metadata": {
    "collapsed": true
   },
   "outputs": [],
   "source": [
    "####################\n",
    "# HELPER FUNCTIONS #\n",
    "####################\n",
    "\n",
    "def sigmoid(x):\n",
    "    return 1.0 / (1.0 + np.exp(-x))"
   ]
  },
  {
   "cell_type": "markdown",
   "metadata": {},
   "source": [
    "# Downloading MNIST data\n",
    "\n",
    "We are again using the MNIST Data"
   ]
  },
  {
   "cell_type": "code",
   "execution_count": 26,
   "metadata": {
    "collapsed": false
   },
   "outputs": [
    {
     "name": "stdout",
     "output_type": "stream",
     "text": [
      "Extracting MNIST_data/train-images-idx3-ubyte.gz\n",
      "Extracting MNIST_data/train-labels-idx1-ubyte.gz\n",
      "Extracting MNIST_data/t10k-images-idx3-ubyte.gz\n",
      "Extracting MNIST_data/t10k-labels-idx1-ubyte.gz\n"
     ]
    }
   ],
   "source": [
    "from tensorflow.examples.tutorials.mnist import input_data\n",
    "mnist = input_data.read_data_sets(\"MNIST_data/\", one_hot=True)\n",
    "\n",
    "X = mnist.train._images.reshape(55000,784)\n",
    "Y = mnist.train._labels\n",
    "index = np.arange(55000)\n",
    "np.random.shuffle(index)\n",
    "\n",
    "train_bf = draw.BatchFeeder(X[index[:54000]], Y[index[:54000]], 128)\n",
    "valid_bf = draw.BatchFeeder(X[index[54000:]], Y[index[54000:]], 128)"
   ]
  },
  {
   "cell_type": "code",
   "execution_count": 3,
   "metadata": {
    "collapsed": false
   },
   "outputs": [
    {
     "data": {
      "image/png": "[encoded data removed]",
      "text/plain": [
       "<matplotlib.figure.Figure at 0x7f50572322d0>"
      ]
     },
     "metadata": {},
     "output_type": "display_data"
    }
   ],
   "source": [
    "x, y = train_bf.next()\n",
    "plt.figure(figsize=(1,1))\n",
    "plt.imshow(x[0].reshape((28,28)), cmap='Greys')\n",
    "plt.yticks([],[])\n",
    "plt.xticks([],[])\n",
    "plt.show()"
   ]
  },
  {
   "cell_type": "markdown",
   "metadata": {},
   "source": [
    "# DRAW implementation\n",
    "\n",
    "The code below implements this. https://arxiv.org/pdf/1502.04623.pdf"
   ]
  },
  {
   "cell_type": "code",
   "execution_count": 429,
   "metadata": {
    "collapsed": false
   },
   "outputs": [],
   "source": [
    "class DRAW:\n",
    "    def __init__(self,\n",
    "                 steps=10,\n",
    "                 dims=[256, 256, 10],\n",
    "                 batchsize=128,\n",
    "                 width=28,\n",
    "                 fn=tf.nn.elu,\n",
    "                 attention = True,\n",
    "                 dropout=1.0):\n",
    "        # Reset all existing tensors\n",
    "        tf.reset_default_graph()\n",
    "        \n",
    "        # Define parameters of the encoder\n",
    "        self.dims = dims\n",
    "        #self.fn = fn\n",
    "        self.learning_rate = 0.001\n",
    "        self._dropout = 1.0\n",
    "        self.built = False\n",
    "        self.sesh = tf.Session()\n",
    "        self.e = 0\n",
    "        self.steps = 10 \n",
    "        self.batchsize = batchsize # default to 128\n",
    "        self.attention = attention\n",
    "        self.N = 5 # of filters.\n",
    "        self.width = width\n",
    "        self.inputsize = width**2 # default to 784 for MNIST\n",
    "        self.epsilon = 1e-5        \n",
    "        \n",
    "        # Tracking data\n",
    "        self.learning_curve = []\n",
    "        self.record = {\"cs\":[], \"y\":[], \"mu_x\":[], \"mu_y\":[]}\n",
    "        \n",
    "        # Building the graph\n",
    "        self.ops = self.build()\n",
    "        self.sesh.run(tf.global_variables_initializer())\n",
    "    \n",
    "    def build(self):\n",
    "        if self.built:\n",
    "            return -1\n",
    "        else:\n",
    "            self.built = True\n",
    "            \n",
    "        #########\n",
    "        # MODEL #\n",
    "        #########\n",
    "        \n",
    "        # Some placeholders to define inputs/parameters\n",
    "        x = tf.placeholder(tf.float32, shape=[self.batchsize, self.inputsize], name=\"x\")\n",
    "        dropout = tf.placeholder(tf.float32, shape=[], name=\"dropout_keepprob\")\n",
    "        \n",
    "        # Defining LSTM cells to be used as encoder/decoder \n",
    "        # Change this to have other kinds of reccurent cells.\n",
    "        self.encoder = tf.contrib.rnn.LSTMCell(self.dims[0], state_is_tuple=True, activation=tf.nn.elu)\n",
    "        self.decoder = tf.contrib.rnn.LSTMCell(self.dims[1], state_is_tuple=True, activation=tf.nn.elu)\n",
    "        \n",
    "        # Some initialization on states and inputs\n",
    "        dec_output = tf.zeros((self.batchsize, self.dims[1])) #output from previous decoder\n",
    "        enc_state = self.encoder.zero_state(self.batchsize, tf.float32) # initial state for encoder\n",
    "        dec_state = self.decoder.zero_state(self.batchsize, tf.float32) # initial state for decoder\n",
    "        \n",
    "        # Some lists to keep track of output and latent tensors\n",
    "        canvases = [] # keeps track the current state of canvas\n",
    "        mus = [] # keeps tracks of mus of latent distributions\n",
    "        logsigmas = [] # keeps tracks of log(sigmas) of latent distributions\n",
    "        \n",
    "        reuse = None\n",
    "        # Unrollinng the whole graph\n",
    "        mu_xs = []\n",
    "        mu_ys = []\n",
    "        for i in range(self.steps):\n",
    "            # If it is first iteration, start with brand new canvas\n",
    "            if i == 0:\n",
    "                prev_canvas = tf.zeros((self.batchsize, self.inputsize))\n",
    "            else:\n",
    "                prev_canvas = canvases[-1]\n",
    "\n",
    "            # Calculate the residual in the image\n",
    "            x_hat = x - tf.nn.sigmoid(prev_canvas)\n",
    "            \n",
    "            # read input depends on input shape\n",
    "            if self.attention: \n",
    "                _input = self.read_with_attention(x, x_hat, dec_output, reuse=reuse)\n",
    "            else:\n",
    "                _input = tf.concat([x, x_hat, dec_output], axis=1)\n",
    "                \n",
    "            \n",
    "            # Apply an encoder to it using appropriate reuse term\n",
    "            enc_output, enc_state = self.encode(_input, enc_state, reuse=reuse)\n",
    "            \n",
    "            # Sampling \n",
    "            with tf.variable_scope(\"sampling\", reuse=reuse):\n",
    "                z_mean = tf.contrib.slim.fully_connected(enc_output, self.dims[-1], activation_fn=tf.identity, scope=\"mean\")\n",
    "                z_logsigma = tf.contrib.slim.fully_connected(enc_output, self.dims[-1], activation_fn=tf.identity, scope=\"sigma\")\n",
    "                mus.append(z_mean)\n",
    "                logsigmas.append(z_logsigma)\n",
    "            \n",
    "            z = self.sample(z_mean, z_logsigma)\n",
    "            \n",
    "            # Apply an decoder to latent values.\n",
    "            dec_output, dec_state = self.decode(z, dec_state, reuse=reuse)\n",
    "            \n",
    "            # Apply linear transfromation to dec_output and add to canvas\n",
    "            if self.attention:\n",
    "                temp, mu_x, mu_y = self.write_with_attention(dec_output, reuse)\n",
    "                cur_canvas = prev_canvas + temp\n",
    "                mu_xs.append(mu_x)\n",
    "                mu_ys.append(mu_y)\n",
    "            else:\n",
    "                cur_canvas = prev_canvas + tf.contrib.slim.fully_connected(dec_output,\\\n",
    "                                                                           self.inputsize,\\\n",
    "                                                                           activation_fn=tf.identity,\\\n",
    "                                                                           scope=\"writing\",\\\n",
    "                                                                           reuse=reuse)\n",
    "            # Add to canvas\n",
    "            canvases.append(cur_canvas) \n",
    "            \n",
    "            # Keep reusing the first weights built.\n",
    "            reuse = True\n",
    "            \n",
    "        reconstructed = tf.nn.sigmoid(canvases[-1])\n",
    "            \n",
    "        ########\n",
    "        # LOSS #\n",
    "        ########\n",
    "        \n",
    "        # Defining reconstruction loss\n",
    "        rec_loss = self.crossEntropy(reconstructed, x)\n",
    "        \n",
    "        kl_holder = []\n",
    "        # Defining KL loss\n",
    "        for i in range(self.steps):\n",
    "            kl_holder.append(self.kullbackLeibler(mus[i], logsigmas[i]))\n",
    "        kl_loss = tf.add_n(kl_holder)\n",
    "        \n",
    "        with tf.name_scope(\"cost\"):\n",
    "            # average over minibatch\n",
    "            cost = tf.reduce_mean(rec_loss + kl_loss, name=\"draw_cost\")\n",
    "            \n",
    "        ################\n",
    "        # OPTIMIZATION #\n",
    "        ################\n",
    "        \n",
    "        # Defining optimization procedure.\n",
    "        with tf.name_scope(\"Adam_optimizer\"):\n",
    "            optimizer = tf.train.AdamOptimizer(self.learning_rate)\n",
    "            tvars = tf.trainable_variables()\n",
    "            grads_and_vars = optimizer.compute_gradients(cost, tvars)\n",
    "            # Gradient clipping here.\n",
    "            clipped = [(tf.clip_by_value(grad, -5, 5), tvar) for grad, tvar in grads_and_vars]\n",
    "            train = optimizer.apply_gradients(clipped, name=\"minimize_cost\")\n",
    "            \n",
    "        ############\n",
    "        # SAMPLING # \n",
    "        ############\n",
    "        zs_ = [tf.placeholder_with_default(tf.random_normal([self.batchsize, self.dims[-1]]),\n",
    "                                            shape=[self.batchsize, self.dims[-1]],\n",
    "                                            name=\"latent_input\") for _ in range(self.steps)]\n",
    "        dec_state = self.decoder.zero_state(self.batchsize, tf.float32) # initial state for decoder\n",
    "        cs_ = []\n",
    "        mu_xs_ = []\n",
    "        mu_ys_ = []\n",
    "        for i in range(self.steps):\n",
    "            if i == 0:\n",
    "                prev_canvas = tf.zeros((self.batchsize, self.inputsize))\n",
    "            else:\n",
    "                prev_canvas = cs_[-1]\n",
    "            dec_output, dec_state = self.decode(zs_[i], dec_state, reuse=True)\n",
    "            if self.attention:\n",
    "                temp, mu_x, mu_y = self.write_with_attention(dec_output, reuse)\n",
    "                cur_canvas = prev_canvas + temp\n",
    "                mu_xs_.append(mu_x)\n",
    "                mu_ys_.append(mu_y)\n",
    "            else:\n",
    "                cur_canvas = prev_canvas + tf.contrib.slim.fully_connected(dec_output,\\\n",
    "                                                                           self.inputsize,\\\n",
    "                                                                           activation_fn=tf.identity,\\\n",
    "                                                                           scope=\"writing\",\\\n",
    "                                                                           reuse=True)\n",
    "            cs_.append(cur_canvas)\n",
    "        \n",
    "            \n",
    "        # Exporting out the operaions as dictionary\n",
    "        return dict(\n",
    "            dropout_keepprob = dropout,\n",
    "            x = x,  \n",
    "            z_mean = z_mean, \n",
    "            z_logsigma = z_logsigma,\n",
    "            latent_input = zs_,\n",
    "            reconstructed = canvases,\n",
    "            reconstructed_ = cs_,\n",
    "            mu_xs = mu_xs,\n",
    "            mu_ys = mu_ys,\n",
    "            mu_xs_ = mu_xs_,\n",
    "            mu_ys_ = mu_ys_,\n",
    "            rec_loss = rec_loss,\n",
    "            kl_loss = kl_loss,\n",
    "            cost = cost,\n",
    "            train = train\n",
    "        )\n",
    "    \n",
    "    # Filter bank takes linear combination of h_dec as these values.\n",
    "    def filterbank(self, gx, gy, sigma2, delta):\n",
    "        # Create a range of float to make points with. This is 1 by 5 tensor\n",
    "        grid_i = tf.reshape(tf.cast(tf.range(self.N), tf.float32), [1, -1])\n",
    "        \n",
    "        # Figure out the center (mean location of filters: 128 by 5 \n",
    "        mu_x = gx + (grid_i - self.N / 2 - 0.5) * delta # Equation 19\n",
    "        mu_y = gy + (grid_i - self.N / 2 - 0.5) * delta # Equation 20\n",
    "        \n",
    "        # This creates an matrix of size 1 by 1 by 28.\n",
    "        # The number contained in here is just [0,1,2,3,4,5,6....,28]\n",
    "        a = tf.reshape(tf.cast(tf.range(self.width), tf.float32), [1, 1, -1])\n",
    "        b = tf.reshape(tf.cast(tf.range(self.width), tf.float32), [1, 1, -1])\n",
    "        \n",
    "        # Reshaping of the above mean locations.\n",
    "        mu_x = tf.reshape(mu_x, [-1, self.N, 1])\n",
    "        mu_y = tf.reshape(mu_y, [-1, self.N, 1])\n",
    "        \n",
    "        # 128 by 5 by 28 for Fx and 128 x 1 x1 for sigma\n",
    "        sigma2 = tf.reshape(sigma2, [-1, 1, 1])\n",
    "        Fx = tf.exp(-tf.square((a - mu_x) / (2*sigma2))) # Equation 25\n",
    "        Fy = tf.exp(-tf.square((b - mu_y) / (2*sigma2))) # Equation 26\n",
    "        \n",
    "        # normalize, sum over A and B dims\n",
    "        # the keeps_sum option retains the sqaushed dimension as length 1.\n",
    "        Fx = Fx/tf.maximum(tf.reduce_sum(Fx,2,keep_dims=True), self.epsilon) # Equation 25 normalization\n",
    "        Fy = Fy/tf.maximum(tf.reduce_sum(Fy,2,keep_dims=True), self.epsilon) # Equation 26 normalization\n",
    "        return Fx, Fy, mu_x, mu_y\n",
    "\n",
    "    # creates attention window with given parameters.\n",
    "    # Returns filter to be applied (128, 5, 28)\n",
    "    def attn_window(self, scope, dec_output, reuse):\n",
    "        \n",
    "        # create attention window with different scopes.\n",
    "        with tf.variable_scope(scope, reuse=reuse):\n",
    "            params=tf.contrib.slim.fully_connected(dec_output, 5, activation_fn=tf.identity, scope=scope, reuse=reuse)\n",
    "            \n",
    "        # Split the result of dense connection\n",
    "        gx_, gy_, log_sigma2, log_delta, log_gamma=tf.split(params,5,1)\n",
    "        \n",
    "        # figure out the center location of guassian filter.\n",
    "        # I am concerned that gx might just go out of boundary?\n",
    "        # Makes more sense to do tanh transformation on gx_ and gy_?\n",
    "        gx = (self.width+1)/2*(gx_+1) # Equation 22\n",
    "        gy = (self.width+1)/2*(gy_+1) # Equation 23\n",
    "        \n",
    "        # both sigma and gamma is in [0, inf] range.\n",
    "        sigma2 = tf.exp(log_sigma2)\n",
    "        gamma = tf.exp(log_gamma)\n",
    "        \n",
    "        # figuring out the offset from center.\n",
    "        delta=(self.width-1)/(self.N-1)*tf.exp(log_delta) # Equation 24\n",
    "        \n",
    "        return self.filterbank(gx,gy,sigma2,delta)+(gamma,)\n",
    "    \n",
    "    # read with attention \n",
    "    def read_with_attention(self, x, x_hat, dec_output, reuse):\n",
    "        Fx, Fy, _, _, gamma = self.attn_window(\"read\", dec_output, reuse=reuse)\n",
    "        \n",
    "        # the function below implements Equation 27\n",
    "        def filter_img(img,Fx,Fy,gamma,N):\n",
    "            Fxt = tf.transpose(Fx, perm=[0,2,1])\n",
    "            img = tf.reshape(img,[-1, self.width, self.width])\n",
    "            glimpse = tf.matmul(Fy,tf.matmul(img, Fxt))\n",
    "            glimpse = tf.reshape(glimpse,[-1,N*N])\n",
    "            return glimpse*tf.reshape(gamma,[-1,1])\n",
    "        \n",
    "        x = filter_img(x, Fx, Fy, gamma, self.N)\n",
    "        x_hat = filter_img(x_hat, Fx, Fy, gamma, self.N)\n",
    "        return tf.concat([x, x_hat, dec_output], 1)\n",
    "    \n",
    "    # write with attention\n",
    "    def write_with_attention(self, dec_output, reuse):\n",
    "        # Apply linear transfromation to figure out the parameters. \n",
    "        with tf.variable_scope(\"writeW\", reuse=reuse):\n",
    "            w = tf.contrib.slim.fully_connected(dec_output, self.N**2, activation_fn=tf.identity, scope=\"writeW\", reuse=reuse)\n",
    "        \n",
    "        # Create 128 by 5 by 5 image.\n",
    "        w = tf.reshape( w, [self.batchsize, self.N, self.N])\n",
    "        Fx, Fy, mu_x, mu_y, gamma= self.attn_window(\"write\", dec_output, reuse=reuse)\n",
    "        \n",
    "        # Implementing equation 28\n",
    "        Fyt = tf.transpose(Fy, perm=[0,2,1])\n",
    "        wr = tf.matmul(Fyt,tf.matmul(w, Fx))\n",
    "        wr = tf.reshape(wr, [self.batchsize, self.width**2])\n",
    "        \n",
    "        # Gamma is applied at the end to produce 128 by 784 vector.\n",
    "        return wr*tf.reshape(1.0/gamma,[-1,1]), mu_x, mu_y\n",
    "\n",
    "    # Defines a encoder graph\n",
    "    def encode(self, _input, state, reuse=None):\n",
    "        with tf.variable_scope(\"encoder\",reuse = reuse):\n",
    "            # state_is_tuple shouldnt be necessary if you are using modern tensorflow modules.\n",
    "            return self.encoder(_input, state)\n",
    "        \n",
    "    # Defines a decoder graph\n",
    "    def decode(self, _input, state, reuse=None):\n",
    "        with tf.variable_scope(\"decoder\", reuse = reuse):\n",
    "            return self.decoder(_input, state)\n",
    "\n",
    "    # ReparameterizationTrick\n",
    "    def sample(self, mu, log_sigma):\n",
    "        with tf.name_scope(\"sample_reparam\"):\n",
    "            epsilon = tf.random_normal(tf.shape(log_sigma), name=\"0mean1varGaus\")\n",
    "            return mu + epsilon * tf.exp(log_sigma)\n",
    "\n",
    "    # Binary cross-entropy (Adapted from online source)\n",
    "    def crossEntropy(self, obs, actual, offset=1e-7):\n",
    "        with tf.name_scope(\"BinearyXent\"):\n",
    "            obs_ = tf.clip_by_value(obs, offset, 1 - offset)\n",
    "            return -tf.reduce_sum(actual * tf.log(obs_) +\n",
    "                                  (1 - actual) * tf.log(1 - obs_), 1)\n",
    "        \n",
    "    # KL divergence between Gaussian with mu and log_sigma, q(z|x) vs 0-mean 1-variance Gaussian p(z).\n",
    "    def kullbackLeibler(self, mu, log_sigma):\n",
    "        with tf.name_scope(\"KLD\"):\n",
    "            return -0.5 * tf.reduce_sum(1 + 2 * log_sigma - mu**2 - tf.exp(2 * log_sigma), 1)\n",
    "        \n",
    "    # training procedure.\n",
    "    def train(self, X, epochs, valid=None):\n",
    "        # Making the saver object.\n",
    "        saver = tf.train.Saver()\n",
    "        \n",
    "        # Defining the number of batches per epoch\n",
    "        batch_num = int(np.ceil(X.n*1.0/X.batch_size))\n",
    "        if valid != None:\n",
    "            val_batch_num = int(np.ceil(valid.n*1.0/valid.batch_size))\n",
    "        \n",
    "        e = 0\n",
    "        while e < epochs:\n",
    "            \n",
    "            epoch_cost = {\"kld\":[], \"rec\":[], \"cost\":[], \"validcost\":[]}\n",
    "            if e == epochs-1: self.record = {\"cs\":[], \"y\":[], \"mu_x\":[], \"mu_y\":[]}\n",
    "            \n",
    "            for i in range(batch_num):\n",
    "                #Training happens here.\n",
    "                batch = X.next()\n",
    "                feed_dict = {self.ops[\"x\"]: batch[0], self.ops[\"dropout_keepprob\"]: self._dropout}\n",
    "                ops_to_run = [self.ops[\"cost\"], self.ops[\"kl_loss\"], self.ops[\"rec_loss\"], self.ops[\"train\"]]\n",
    "                cost, kld, rec, _= self.sesh.run(ops_to_run, feed_dict)\n",
    "                \n",
    "                #if e == epochs-1: \n",
    "                if True:\n",
    "                    canvas = self.sesh.run(self.ops[\"reconstructed\"], feed_dict)\n",
    "                    canvas = np.stack(canvas, axis=-1)\n",
    "                    mux = self.sesh.run(self.ops[\"mu_xs\"], feed_dict)\n",
    "                    mux = np.stack(mux, axis=-1)\n",
    "                    muy = self.sesh.run(self.ops[\"mu_ys\"], feed_dict)\n",
    "                    muy = np.stack(muy, axis=-1)\n",
    "                    self.record[\"cs\"] = self.record[\"cs\"] + [_ for _ in canvas]\n",
    "                    self.record[\"y\"] = self.record[\"y\"] + [_ for _ in batch[1]]\n",
    "                    self.record[\"mu_x\"] = self.record[\"mu_x\"] + [_ for _ in mux]\n",
    "                    self.record[\"mu_y\"] = self.record[\"mu_y\"] + [_ for _ in muy]\n",
    "                    \n",
    "                epoch_cost[\"kld\"].append(np.mean(kld))\n",
    "                epoch_cost[\"rec\"].append(np.mean(rec))\n",
    "                epoch_cost[\"cost\"].append(cost)\n",
    "            \n",
    "            if valid != None:\n",
    "                for i in range(val_batch_num):\n",
    "                    batch = valid.next()\n",
    "                    feed_dict = {self.ops[\"x\"]: batch[0], self.ops[\"dropout_keepprob\"]: 1.0}\n",
    "                    cost = self.sesh.run(self.ops[\"cost\"], feed_dict)\n",
    "                    epoch_cost[\"validcost\"].append(cost)\n",
    "            self.e+=1\n",
    "            e+= 1\n",
    "                \n",
    "            print \"Epoch:\"+str(self.e), \"train_cost:\", np.mean(epoch_cost[\"cost\"]),\n",
    "            if valid != None: print \"valid_cost:\", np.mean(epoch_cost[\"validcost\"]),\n",
    "            print \"(\", np.mean(epoch_cost[\"kld\"]), np.mean(epoch_cost[\"rec\"]), \")\"\n",
    "            self.learning_curve.append(epoch_cost)\n",
    "            \n",
    "    # Decode latent examples. Other_wise, draw from N(0,1)\n",
    "    def generate(self):\n",
    "        feed_dict = {self.ops[\"dropout_keepprob\"]: 1.0}\n",
    "        canvas = self.sesh.run(self.ops[\"reconstructed_\"], feed_dict)\n",
    "        canvas = np.stack(canvas, axis=-1)\n",
    "        mux = self.sesh.run(self.ops[\"mu_xs_\"], feed_dict)\n",
    "        mux = np.concatenate(mux, axis=2)\n",
    "        muy = self.sesh.run(self.ops[\"mu_ys_\"], feed_dict)\n",
    "        muy = np.concatenate(muy, axis=2)\n",
    "        return canvas, mux, muy"
   ]
  },
  {
   "cell_type": "markdown",
   "metadata": {},
   "source": [
    "# Tranining a model without attention mechanism."
   ]
  },
  {
   "cell_type": "code",
   "execution_count": null,
   "metadata": {
    "collapsed": false,
    "scrolled": false
   },
   "outputs": [],
   "source": [
    "model = DRAW(15)"
   ]
  },
  {
   "cell_type": "code",
   "execution_count": null,
   "metadata": {
    "collapsed": false,
    "scrolled": true
   },
   "outputs": [
    {
     "name": "stdout",
     "output_type": "stream",
     "text": [
      "Epoch:1 train_cost: 210.838 valid_cost: 176.497 ( 5.57479 205.263 )\n",
      "Epoch:2 train_cost: 160.26 valid_cost: 149.901 ( 11.6155 148.645 )\n",
      "Epoch:3 train_cost: 142.172 valid_cost: 139.093 ( 16.9534 125.218 )\n",
      "Epoch:4 train_cost: 131.263 valid_cost: 130.194 ( 20.3248 110.938 )\n",
      "Epoch:5 train_cost: 124.71 valid_cost: 124.144 ( 21.8096 102.901 )\n",
      "Epoch:6 train_cost: 120.674 valid_cost: 120.07 ( 22.7583 97.9161 )\n",
      "Epoch:7 train_cost: 117.875 valid_cost: 118.283 ( 23.2267 94.6479 )\n",
      "Epoch:8 train_cost: 115.537 valid_cost: 115.27 ( 23.4864 92.0504 )\n",
      "Epoch:9 train_cost: 114.031 valid_cost: 113.814 ( 23.6247 90.4064 )\n",
      "Epoch:10 train_cost: 112.105 valid_cost: 111.99 ( 23.6733 88.4313 )\n",
      "Epoch:11 train_cost: 110.961 valid_cost: 111.325 ( 23.7791 87.1819 )\n",
      "Epoch:12 train_cost: 109.779 valid_cost: 110.019 ( 23.7219 86.0575 )\n",
      "Epoch:13 train_cost: 108.797 valid_cost: 109.345 ( 23.7777 85.019 )\n",
      "Epoch:14 train_cost: 107.794 valid_cost: 107.778 ( 23.7624 84.0318 )\n",
      "Epoch:15 train_cost: 106.877 valid_cost: 108.345 ( 23.6925 83.1844 )\n"
     ]
    }
   ],
   "source": [
    "# Seems like it overfits within just 10 iterations?\n",
    "model.train(train_bf, 60, valid_bf)"
   ]
  },
  {
   "cell_type": "markdown",
   "metadata": {},
   "source": [
    "# Plotting the drawing process\n",
    "\n",
    "Iteratively reconstruct a sample given a real example"
   ]
  },
  {
   "cell_type": "code",
   "execution_count": null,
   "metadata": {
    "collapsed": false
   },
   "outputs": [],
   "source": [
    "index = np.random.randint(50000)\n",
    "sample = model.record[\"cs\"][index].reshape(28,28,10)\n",
    "print \"label:\", np.argmax(model.record[\"y\"][index])\n",
    "plt.figure(figsize=(10,2))\n",
    "for i in range(10):\n",
    "    plt.subplot(1,10,i+1)\n",
    "    plt.imshow(sigmoid(sample[:,:,i]), vmin=0, vmax=1)\n",
    "    plt.xticks([],[])\n",
    "    plt.yticks([],[])\n",
    "plt.show()"
   ]
  },
  {
   "cell_type": "markdown",
   "metadata": {},
   "source": [
    "# Generating a random drawing sample\n",
    "\n",
    "Iteratively generate a sample by drawing from a latent distribution at every step."
   ]
  },
  {
   "cell_type": "code",
   "execution_count": 423,
   "metadata": {
    "collapsed": false
   },
   "outputs": [
    {
     "data": {
      "image/png": "[encoded data removed]",
      "text/plain": [
       "<matplotlib.figure.Figure at 0x7f50243b26d0>"
      ]
     },
     "metadata": {},
     "output_type": "display_data"
    }
   ],
   "source": [
    "generated, mux, muy = model.generate()\n",
    "index = -1\n",
    "images = generated[index].reshape((28, 28, 10))\n",
    "\n",
    "plt.figure(figsize=(10,2))\n",
    "for i in range(10):\n",
    "    plt.subplot(1,10,i+1)\n",
    "    plt.imshow(sigmoid(images[:,:,i]), vmin=0, vmax=1)\n",
    "    plt.xticks([],[])\n",
    "    plt.yticks([],[])\n",
    "plt.show()"
   ]
  },
  {
   "cell_type": "code",
   "execution_count": 425,
   "metadata": {
    "collapsed": false
   },
   "outputs": [
    {
     "data": {
      "text/plain": [
       "array([  0.90965652,   6.58404922,  12.25844288,  17.93283653,  23.60722923], dtype=float32)"
      ]
     },
     "execution_count": 425,
     "metadata": {},
     "output_type": "execute_result"
    }
   ],
   "source": [
    "mux[0, :, 0]"
   ]
  },
  {
   "cell_type": "code",
   "execution_count": 426,
   "metadata": {
    "collapsed": false
   },
   "outputs": [
    {
     "data": {
      "text/plain": [
       "array([ -0.69745922,   4.95803547,  10.61353016,  16.2690239 ,  21.92451859], dtype=float32)"
      ]
     },
     "execution_count": 426,
     "metadata": {},
     "output_type": "execute_result"
    }
   ],
   "source": [
    "muy[0, :, 0]"
   ]
  },
  {
   "cell_type": "code",
   "execution_count": null,
   "metadata": {
    "collapsed": true
   },
   "outputs": [],
   "source": []
  }
 ],
 "metadata": {
  "kernelspec": {
   "display_name": "Python 2",
   "language": "python",
   "name": "python2"
  },
  "language_info": {
   "codemirror_mode": {
    "name": "ipython",
    "version": 2
   },
   "file_extension": ".py",
   "mimetype": "text/x-python",
   "name": "python",
   "nbconvert_exporter": "python",
   "pygments_lexer": "ipython2",
   "version": "2.7.13"
  }
 },
 "nbformat": 4,
 "nbformat_minor": 2
}
