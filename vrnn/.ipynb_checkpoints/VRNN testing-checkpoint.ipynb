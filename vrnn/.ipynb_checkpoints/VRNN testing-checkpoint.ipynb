{
 "cells": [
  {
   "cell_type": "code",
   "execution_count": 37,
   "metadata": {
    "collapsed": true
   },
   "outputs": [],
   "source": [
    "import tensorflow as tf\n",
    "import numpy as np\n",
    "import util\n",
    "import matplotlib.pyplot as plt"
   ]
  },
  {
   "cell_type": "markdown",
   "metadata": {},
   "source": [
    "# MNIST DATA"
   ]
  },
  {
   "cell_type": "code",
   "execution_count": 2,
   "metadata": {},
   "outputs": [
    {
     "name": "stdout",
     "output_type": "stream",
     "text": [
      "Extracting MNIST_data/train-images-idx3-ubyte.gz\n",
      "Extracting MNIST_data/train-labels-idx1-ubyte.gz\n",
      "Extracting MNIST_data/t10k-images-idx3-ubyte.gz\n",
      "Extracting MNIST_data/t10k-labels-idx1-ubyte.gz\n"
     ]
    }
   ],
   "source": [
    "from tensorflow.examples.tutorials.mnist import input_data\n",
    "mnist = input_data.read_data_sets(\"MNIST_data/\", one_hot=True)\n",
    "\n",
    "X = mnist.train._images.reshape(55000, 28, 28)\n",
    "Y = mnist.train._labels\n",
    "index = np.arange(55000)\n",
    "np.random.shuffle(index)\n",
    "\n",
    "train_bf = util.BatchFeeder(X[index[:54000]], Y[index[:54000]], 64)\n",
    "valid_bf = util.BatchFeeder(X[index[54000:]], Y[index[54000:]], 32)"
   ]
  },
  {
   "cell_type": "markdown",
   "metadata": {},
   "source": [
    "# Custom VRNN cell implementation with logistic output\n",
    "\n",
    "Reference: https://arxiv.org/abs/1506.02216  \n",
    "Works with both **dynamic_rnn** and **static_rnn**"
   ]
  },
  {
   "cell_type": "code",
   "execution_count": 23,
   "metadata": {
    "collapsed": true
   },
   "outputs": [],
   "source": [
    "'''\n",
    "Variational Recurrent AutoEncoder implementation as an RNN cell in Tensorflow.\n",
    "'''\n",
    "\n",
    "class VRNNCell(tf.contrib.rnn.RNNCell):\n",
    "    def __init__(self, num_units, dim_latent, dim_phix, dim_phiz, dim_x, rnn_unit=tf.contrib.rnn.LSTMCell):\n",
    "        \n",
    "        self.num_units = num_units #number of units in LSTM cell\n",
    "        self.dim_latent = dim_latent #dimention of the latent space.\n",
    "        \n",
    "        # Transformation of X and Z (phix and phiz)\n",
    "        self.dim_phix = dim_phix #dimensionality of the output of phix.\n",
    "        self.dim_phiz = dim_phiz #dimensionality of the output of phiz.\n",
    "        self.dim_enc = dim_latent #dimensionalty of encoder output\n",
    "        self.dim_dec = dim_x #dimensionalty of decoder output\n",
    "        self.dim_x = dim_x\n",
    "        \n",
    "        # Using it for transition of h. \n",
    "        self.rnn_unit = rnn_unit(self.num_units, state_is_tuple=True) # \"f\" of the equation 7\n",
    "        \n",
    "    @property\n",
    "    def state_size(self):\n",
    "        return (self.num_units, self.num_units)\n",
    "\n",
    "    @property\n",
    "    def output_size(self):\n",
    "        return (self.dim_latent, self.dim_latent, self.dim_latent, self.dim_latent, self.dim_x)\n",
    "    \n",
    "    def __call__(self, x, state, scope=None):\n",
    "        with tf.variable_scope(scope or type(self).__name__):\n",
    "            h, c = state\n",
    "            \n",
    "            # Defining prior distribution\n",
    "            prior_mu, prior_sigma = self.prior(h)\n",
    "            \n",
    "            # Defining latent distribution with encoder\n",
    "            phix = self.transform_x(x)\n",
    "            latent_mu, latent_sigma = self.encoder(phix, h)\n",
    "            \n",
    "            # Sample from the latent distribution with reparameterization trick\n",
    "            z = self.sample(latent_mu, latent_sigma)\n",
    "            \n",
    "            # Defining output distribution with decoder\n",
    "            phiz = self.transform_z(z)\n",
    "            reconst = self.decoder(phiz, h)\n",
    "            \n",
    "            # Updating hidden states for next iteration\n",
    "            _, newstate = self.rnn_unit(tf.concat([phix, phiz], axis=1,), state)\n",
    "            \n",
    "            # Return updated states and parameters of distributions\n",
    "            return (prior_mu, prior_sigma,\n",
    "                    latent_mu, latent_sigma,\n",
    "                    reconst), (newstate[0], newstate[1])\n",
    "    \n",
    "    # Reparametrization trick\n",
    "    def sample(self, mu, sigma):\n",
    "        with tf.name_scope(\"sample_reparam\"):\n",
    "            epsilon = tf.random_normal(tf.shape(sigma), name=\"0mean1varGaus\")\n",
    "            return mu + epsilon * sigma\n",
    "            \n",
    "    # Equation 9\n",
    "    # The decoder takes in h at t-1 and phix\n",
    "    def encoder(self, phix, h):\n",
    "        with tf.variable_scope(\"encoder\"):\n",
    "            latent_h =  tf.contrib.slim.fully_connected(tf.concat([phix, h], axis=1),\n",
    "                                                        self.dim_enc, \n",
    "                                                        activation_fn=tf.nn.relu)\n",
    "            latent_mu = tf.contrib.slim.fully_connected(latent_h, \n",
    "                                                        self.dim_latent, \n",
    "                                                        activation_fn=tf.identity)\n",
    "            latent_sigma = tf.contrib.slim.fully_connected(latent_h, \n",
    "                                                           self.dim_latent, \n",
    "                                                           activation_fn=tf.nn.elu)\n",
    "            \n",
    "            return latent_mu, latent_sigma\n",
    "\n",
    "    # Equation 6\n",
    "    def decoder(self, phiz, h):\n",
    "        with tf.variable_scope(\"decoder\"):\n",
    "            x_h = tf.contrib.slim.fully_connected(tf.concat([phiz, h], axis=1),\n",
    "                                                  self.dim_dec, \n",
    "                                                  activation_fn=tf.nn.relu)\n",
    "            reconst = tf.contrib.slim.fully_connected(x_h,\n",
    "                                                      self.dim_x,\n",
    "                                                      activation_fn=tf.sigmoid)\n",
    "            return reconst\n",
    "        \n",
    "    # This applies subnetwork on x to generate phix\n",
    "    def transform_x(self, x):\n",
    "        with tf.variable_scope(\"phix\"):\n",
    "            return tf.contrib.slim.fully_connected(x, self.dim_phix, activation_fn=tf.nn.relu)\n",
    "        \n",
    "    # This applies subnetwork on z to generate phiz\n",
    "    def transform_z(self, z):\n",
    "        with tf.variable_scope(\"phiz\"):\n",
    "            return tf.contrib.slim.fully_connected(z, self.dim_phiz, activation_fn=tf.nn.relu)\n",
    "    \n",
    "    # This is a subnetwork that takes in h at t-1 and outputs parameters for prior at t\n",
    "    # Equation 5: z ∼ N(µ, diag(σ2)) , where [µ,σ] = ϕprior(ht−1)\n",
    "    def prior(self, h):\n",
    "        with tf.variable_scope(\"prior\"):\n",
    "            \n",
    "            # This can be deeper.\n",
    "            prior_h = tf.contrib.slim.fully_connected(h,\n",
    "                                                      self.dim_latent,\n",
    "                                                      activation_fn=tf.nn.relu)\n",
    "            prior_mu = tf.contrib.slim.fully_connected(prior_h,\n",
    "                                                       self.dim_latent, \n",
    "                                                       activation_fn=tf.identity)\n",
    "            prior_sigma = tf.contrib.slim.fully_connected(prior_h, \n",
    "                                                          self.dim_latent, \n",
    "                                                          activation_fn=tf.nn.elu)\n",
    "            \n",
    "            return prior_mu, prior_sigma"
   ]
  },
  {
   "cell_type": "markdown",
   "metadata": {},
   "source": [
    "Instantiating as a static RNN"
   ]
  },
  {
   "cell_type": "code",
   "execution_count": 24,
   "metadata": {
    "collapsed": true,
    "scrolled": false
   },
   "outputs": [],
   "source": [
    "tf.reset_default_graph()\n",
    "cell = VRNNCell(num_units=64,\n",
    "                dim_latent=5,\n",
    "                dim_phix=20,\n",
    "                dim_phiz=5,\n",
    "                dim_x=31)\n",
    "init_states = cell.zero_state(32, dtype=tf.float32)\n",
    "inputs = tf.placeholder(dtype=tf.float32, shape=[32, 128, 31], name='input')\n",
    "inputs = [tf.squeeze(t)  for t in tf.split(axis=1, num_or_size_splits=128, value=inputs)]\n",
    "outputs, last_state = tf.contrib.rnn.static_rnn(cell, inputs, initial_state=init_states)"
   ]
  },
  {
   "cell_type": "markdown",
   "metadata": {},
   "source": [
    "Instantiating as a dnynamic RNN"
   ]
  },
  {
   "cell_type": "code",
   "execution_count": 25,
   "metadata": {
    "collapsed": true
   },
   "outputs": [],
   "source": [
    "tf.reset_default_graph()\n",
    "cell = VRNNCell(num_units=64,\n",
    "                dim_latent=5,\n",
    "                dim_phix=20,\n",
    "                dim_phiz=5,\n",
    "                dim_x=31)\n",
    "init_states = cell.zero_state(32, dtype=tf.float32)\n",
    "inputs = tf.placeholder(dtype=tf.float32, shape=[32, 128, 31], name='input')\n",
    "outputs, last_state = tf.nn.dynamic_rnn(cell, inputs, initial_state=init_states)"
   ]
  },
  {
   "cell_type": "markdown",
   "metadata": {},
   "source": [
    "# Implementing the whole VRNN model\n",
    "\n",
    "We need to do the following things:\n",
    "- Unroll the VRNNcell\n",
    "- define KL divergence loss\n",
    "- Define reconstruction/likelihood loss"
   ]
  },
  {
   "cell_type": "code",
   "execution_count": 48,
   "metadata": {
    "collapsed": true
   },
   "outputs": [],
   "source": [
    "class VRNN():\n",
    "    def __init__(self):\n",
    "        # Reset all existing tensors\n",
    "        tf.reset_default_graph()\n",
    "        \n",
    "        # Core parameters\n",
    "        self.built = False\n",
    "        self.sesh = tf.Session()\n",
    "        self.e = 0\n",
    "        \n",
    "        # Tracking data\n",
    "        self.learning_curve = []\n",
    "        self.record = {\"x_\":[]}\n",
    "        \n",
    "        # Model specific parameters\n",
    "        self.lr = 0.001\n",
    "        self.batchsize = 64\n",
    "        self.dim_latent=2\n",
    "        self.input_shape = [28,28]\n",
    "        \n",
    "        # Building the graph\n",
    "        self.ops = self.__build()\n",
    "        self.sesh.run(tf.global_variables_initializer())\n",
    "    \n",
    "    def __build(self):\n",
    "        if self.built:\n",
    "            return -1\n",
    "        else:\n",
    "            self.built = True\n",
    "            \n",
    "        #Instantiate cells\n",
    "        cell = VRNNCell(num_units=16,\n",
    "                        dim_latent=self.dim_latent,\n",
    "                        dim_phix=10,\n",
    "                        dim_phiz=2,\n",
    "                        dim_x=self.input_shape[1])\n",
    "\n",
    "        # Define inputs\n",
    "        x = tf.placeholder(dtype=tf.float32, shape=[self.batchsize]+self.input_shape, name='input')\n",
    "\n",
    "        #Unroll LSTM cells\n",
    "        init_states = cell.zero_state(self.batchsize, dtype=tf.float32)\n",
    "        (prior_mu, prior_sigma, latent_mu, latent_sigma, reconst), last_state = tf.nn.dynamic_rnn(cell, x, initial_state=init_states)\n",
    "\n",
    "        #Define loss\n",
    "        with tf.variable_scope(\"cost\"):\n",
    "            kl_divergence = self.kld(latent_mu, latent_sigma, prior_mu, prior_sigma)\n",
    "            reconstruction_loss = self.binaryXent(reconst, x)\n",
    "            cost = tf.reduce_mean(kl_divergence + reconstruction_loss)\n",
    "            \n",
    "        # Defining optimization procedure.\n",
    "        with tf.variable_scope(\"Adam_optimizer\"):\n",
    "            optimizer = tf.train.AdamOptimizer(self.lr)\n",
    "            tvars = tf.trainable_variables()\n",
    "            grads_and_vars = optimizer.compute_gradients(cost, tvars)\n",
    "            clipped = [(tf.clip_by_value(grad, -5, 5), tvar) for grad, tvar in grads_and_vars]\n",
    "            train = optimizer.apply_gradients(clipped, name=\"minimize_cost\")\n",
    "        \n",
    "        return dict(\n",
    "            x=x,\n",
    "            cost=cost,\n",
    "            kld_loss=kl_divergence,\n",
    "            rec_loss=reconstruction_loss,\n",
    "            reconstruction=reconst,\n",
    "            train=train\n",
    "        )\n",
    "    \n",
    "    # training procedure.\n",
    "    def train(self, X, epochs):\n",
    "        # Making the saver object.\n",
    "        saver = tf.train.Saver()\n",
    "        \n",
    "        # Defining the number of batches per epoch\n",
    "        batch_num = int(np.ceil(X.n*1.0/X.batch_size))\n",
    "        \n",
    "        e = 0\n",
    "        while e < epochs:\n",
    "            epoch_cost = {\"kld\":[], \"rec\":[], \"cost\":[]}\n",
    "            \n",
    "            if e == epochs-1: self.latent_record = {\"z\":[], \"y\":[]}\n",
    "            \n",
    "            for i in range(batch_num):\n",
    "                #Training happens here.\n",
    "                batch = X.next()\n",
    "                feed_dict = {self.ops[\"x\"]: batch[0]}\n",
    "                ops_to_run = [self.ops[\"reconstruction\"],\n",
    "                              self.ops[\"cost\"],\n",
    "                              self.ops[\"kld_loss\"],\n",
    "                              self.ops[\"rec_loss\"],\n",
    "                              self.ops[\"train\"]]\n",
    "                \n",
    "                reconstruction, cost, kld, rec, _= self.sesh.run(ops_to_run, feed_dict)\n",
    "                \n",
    "                # Record necessary data\n",
    "                if e == epochs-1: self.record[\"x_\"] = self.record[\"x_\"] + [_ for _ in reconstruction]\n",
    "                \n",
    "                # Record error terms\n",
    "                epoch_cost[\"kld\"].append(np.mean(kld))\n",
    "                epoch_cost[\"rec\"].append(np.mean(rec))\n",
    "                epoch_cost[\"cost\"].append(cost)\n",
    "            \n",
    "            #Record statistics\n",
    "            self.e+=1\n",
    "            e+= 1\n",
    "            self.learning_curve.append(epoch_cost)\n",
    "            \n",
    "            print \"Epoch:\"+str(self.e), \"train_cost:\", np.mean(epoch_cost[\"cost\"]),\n",
    "            print \"(kld:\", np.mean(epoch_cost[\"kld\"]), \", rec:\", np.mean(epoch_cost[\"rec\"]), \")\"\n",
    "            \n",
    "    # KLD for latent regularization   \n",
    "    def kld(self, mu_p, sigma_p, mu_q=None, sigma_q=None, offset=1e-7):\n",
    "        if mu_q == None: mu_q=tf.zeros((self.batchsize, 2))\n",
    "        if sigma_q == None: sigma_q = tf.ones((self.batchsize, 2))\n",
    "        with tf.variable_scope(\"KLD\"):\n",
    "            sigma_p_ = tf.maximum(offset, sigma_p)\n",
    "            sigma_q_ = tf.maximum(offset, sigma_q)\n",
    "            return tf.reduce_sum(0.5*(2*tf.log(sigma_q_)-2*tf.log(sigma_p_)\n",
    "                                      +(tf.square(sigma_p_)+tf.square(mu_p-mu_q))/tf.square(sigma_q_)-1), 1)\n",
    "    \n",
    "    # Binary crossentropy loss for reconstruction error.\n",
    "    def binaryXent(pred, y, offset=1e-7):\n",
    "        with tf.variable_scope(\"BinearyXent\"):\n",
    "            obs_ = tf.clip_by_value(pred, offset, 1 - offset)\n",
    "            return -tf.reduce_sum(y * tf.log(obs_) + (1 - y) * tf.log(1 - obs_), 2)"
   ]
  },
  {
   "cell_type": "markdown",
   "metadata": {},
   "source": [
    "# Training"
   ]
  },
  {
   "cell_type": "code",
   "execution_count": 114,
   "metadata": {
    "collapsed": true
   },
   "outputs": [],
   "source": [
    "model = VRNN()"
   ]
  },
  {
   "cell_type": "code",
   "execution_count": 115,
   "metadata": {},
   "outputs": [
    {
     "ename": "KeyboardInterrupt",
     "evalue": "",
     "output_type": "error",
     "traceback": [
      "\u001b[0;31m---------------------------------------------------------------------------\u001b[0m",
      "\u001b[0;31mKeyboardInterrupt\u001b[0m                         Traceback (most recent call last)",
      "\u001b[0;32m<ipython-input-115-894e4ef86ca1>\u001b[0m in \u001b[0;36m<module>\u001b[0;34m()\u001b[0m\n\u001b[0;32m----> 1\u001b[0;31m \u001b[0mmodel\u001b[0m\u001b[0;34m.\u001b[0m\u001b[0mtrain\u001b[0m\u001b[0;34m(\u001b[0m\u001b[0mtrain_bf\u001b[0m\u001b[0;34m,\u001b[0m \u001b[0;36m20\u001b[0m\u001b[0;34m)\u001b[0m\u001b[0;34m\u001b[0m\u001b[0m\n\u001b[0m",
      "\u001b[0;32m<ipython-input-48-f9a62d7d2673>\u001b[0m in \u001b[0;36mtrain\u001b[0;34m(self, X, epochs)\u001b[0m\n\u001b[1;32m     89\u001b[0m                               self.ops[\"train\"]]\n\u001b[1;32m     90\u001b[0m \u001b[0;34m\u001b[0m\u001b[0m\n\u001b[0;32m---> 91\u001b[0;31m                 \u001b[0mreconstruction\u001b[0m\u001b[0;34m,\u001b[0m \u001b[0mcost\u001b[0m\u001b[0;34m,\u001b[0m \u001b[0mkld\u001b[0m\u001b[0;34m,\u001b[0m \u001b[0mrec\u001b[0m\u001b[0;34m,\u001b[0m \u001b[0m_\u001b[0m\u001b[0;34m=\u001b[0m \u001b[0mself\u001b[0m\u001b[0;34m.\u001b[0m\u001b[0msesh\u001b[0m\u001b[0;34m.\u001b[0m\u001b[0mrun\u001b[0m\u001b[0;34m(\u001b[0m\u001b[0mops_to_run\u001b[0m\u001b[0;34m,\u001b[0m \u001b[0mfeed_dict\u001b[0m\u001b[0;34m)\u001b[0m\u001b[0;34m\u001b[0m\u001b[0m\n\u001b[0m\u001b[1;32m     92\u001b[0m \u001b[0;34m\u001b[0m\u001b[0m\n\u001b[1;32m     93\u001b[0m                 \u001b[0;31m# Record necessary data\u001b[0m\u001b[0;34m\u001b[0m\u001b[0;34m\u001b[0m\u001b[0m\n",
      "\u001b[0;32m/home/hiranumn/.local/lib/python2.7/site-packages/tensorflow/python/client/session.pyc\u001b[0m in \u001b[0;36mrun\u001b[0;34m(self, fetches, feed_dict, options, run_metadata)\u001b[0m\n\u001b[1;32m    887\u001b[0m     \u001b[0;32mtry\u001b[0m\u001b[0;34m:\u001b[0m\u001b[0;34m\u001b[0m\u001b[0m\n\u001b[1;32m    888\u001b[0m       result = self._run(None, fetches, feed_dict, options_ptr,\n\u001b[0;32m--> 889\u001b[0;31m                          run_metadata_ptr)\n\u001b[0m\u001b[1;32m    890\u001b[0m       \u001b[0;32mif\u001b[0m \u001b[0mrun_metadata\u001b[0m\u001b[0;34m:\u001b[0m\u001b[0;34m\u001b[0m\u001b[0m\n\u001b[1;32m    891\u001b[0m         \u001b[0mproto_data\u001b[0m \u001b[0;34m=\u001b[0m \u001b[0mtf_session\u001b[0m\u001b[0;34m.\u001b[0m\u001b[0mTF_GetBuffer\u001b[0m\u001b[0;34m(\u001b[0m\u001b[0mrun_metadata_ptr\u001b[0m\u001b[0;34m)\u001b[0m\u001b[0;34m\u001b[0m\u001b[0m\n",
      "\u001b[0;32m/home/hiranumn/.local/lib/python2.7/site-packages/tensorflow/python/client/session.pyc\u001b[0m in \u001b[0;36m_run\u001b[0;34m(self, handle, fetches, feed_dict, options, run_metadata)\u001b[0m\n\u001b[1;32m   1118\u001b[0m     \u001b[0;32mif\u001b[0m \u001b[0mfinal_fetches\u001b[0m \u001b[0;32mor\u001b[0m \u001b[0mfinal_targets\u001b[0m \u001b[0;32mor\u001b[0m \u001b[0;34m(\u001b[0m\u001b[0mhandle\u001b[0m \u001b[0;32mand\u001b[0m \u001b[0mfeed_dict_tensor\u001b[0m\u001b[0;34m)\u001b[0m\u001b[0;34m:\u001b[0m\u001b[0;34m\u001b[0m\u001b[0m\n\u001b[1;32m   1119\u001b[0m       results = self._do_run(handle, final_targets, final_fetches,\n\u001b[0;32m-> 1120\u001b[0;31m                              feed_dict_tensor, options, run_metadata)\n\u001b[0m\u001b[1;32m   1121\u001b[0m     \u001b[0;32melse\u001b[0m\u001b[0;34m:\u001b[0m\u001b[0;34m\u001b[0m\u001b[0m\n\u001b[1;32m   1122\u001b[0m       \u001b[0mresults\u001b[0m \u001b[0;34m=\u001b[0m \u001b[0;34m[\u001b[0m\u001b[0;34m]\u001b[0m\u001b[0;34m\u001b[0m\u001b[0m\n",
      "\u001b[0;32m/home/hiranumn/.local/lib/python2.7/site-packages/tensorflow/python/client/session.pyc\u001b[0m in \u001b[0;36m_do_run\u001b[0;34m(self, handle, target_list, fetch_list, feed_dict, options, run_metadata)\u001b[0m\n\u001b[1;32m   1315\u001b[0m     \u001b[0;32mif\u001b[0m \u001b[0mhandle\u001b[0m \u001b[0;32mis\u001b[0m \u001b[0mNone\u001b[0m\u001b[0;34m:\u001b[0m\u001b[0;34m\u001b[0m\u001b[0m\n\u001b[1;32m   1316\u001b[0m       return self._do_call(_run_fn, self._session, feeds, fetches, targets,\n\u001b[0;32m-> 1317\u001b[0;31m                            options, run_metadata)\n\u001b[0m\u001b[1;32m   1318\u001b[0m     \u001b[0;32melse\u001b[0m\u001b[0;34m:\u001b[0m\u001b[0;34m\u001b[0m\u001b[0m\n\u001b[1;32m   1319\u001b[0m       \u001b[0;32mreturn\u001b[0m \u001b[0mself\u001b[0m\u001b[0;34m.\u001b[0m\u001b[0m_do_call\u001b[0m\u001b[0;34m(\u001b[0m\u001b[0m_prun_fn\u001b[0m\u001b[0;34m,\u001b[0m \u001b[0mself\u001b[0m\u001b[0;34m.\u001b[0m\u001b[0m_session\u001b[0m\u001b[0;34m,\u001b[0m \u001b[0mhandle\u001b[0m\u001b[0;34m,\u001b[0m \u001b[0mfeeds\u001b[0m\u001b[0;34m,\u001b[0m \u001b[0mfetches\u001b[0m\u001b[0;34m)\u001b[0m\u001b[0;34m\u001b[0m\u001b[0m\n",
      "\u001b[0;32m/home/hiranumn/.local/lib/python2.7/site-packages/tensorflow/python/client/session.pyc\u001b[0m in \u001b[0;36m_do_call\u001b[0;34m(self, fn, *args)\u001b[0m\n\u001b[1;32m   1321\u001b[0m   \u001b[0;32mdef\u001b[0m \u001b[0m_do_call\u001b[0m\u001b[0;34m(\u001b[0m\u001b[0mself\u001b[0m\u001b[0;34m,\u001b[0m \u001b[0mfn\u001b[0m\u001b[0;34m,\u001b[0m \u001b[0;34m*\u001b[0m\u001b[0margs\u001b[0m\u001b[0;34m)\u001b[0m\u001b[0;34m:\u001b[0m\u001b[0;34m\u001b[0m\u001b[0m\n\u001b[1;32m   1322\u001b[0m     \u001b[0;32mtry\u001b[0m\u001b[0;34m:\u001b[0m\u001b[0;34m\u001b[0m\u001b[0m\n\u001b[0;32m-> 1323\u001b[0;31m       \u001b[0;32mreturn\u001b[0m \u001b[0mfn\u001b[0m\u001b[0;34m(\u001b[0m\u001b[0;34m*\u001b[0m\u001b[0margs\u001b[0m\u001b[0;34m)\u001b[0m\u001b[0;34m\u001b[0m\u001b[0m\n\u001b[0m\u001b[1;32m   1324\u001b[0m     \u001b[0;32mexcept\u001b[0m \u001b[0merrors\u001b[0m\u001b[0;34m.\u001b[0m\u001b[0mOpError\u001b[0m \u001b[0;32mas\u001b[0m \u001b[0me\u001b[0m\u001b[0;34m:\u001b[0m\u001b[0;34m\u001b[0m\u001b[0m\n\u001b[1;32m   1325\u001b[0m       \u001b[0mmessage\u001b[0m \u001b[0;34m=\u001b[0m \u001b[0mcompat\u001b[0m\u001b[0;34m.\u001b[0m\u001b[0mas_text\u001b[0m\u001b[0;34m(\u001b[0m\u001b[0me\u001b[0m\u001b[0;34m.\u001b[0m\u001b[0mmessage\u001b[0m\u001b[0;34m)\u001b[0m\u001b[0;34m\u001b[0m\u001b[0m\n",
      "\u001b[0;32m/home/hiranumn/.local/lib/python2.7/site-packages/tensorflow/python/client/session.pyc\u001b[0m in \u001b[0;36m_run_fn\u001b[0;34m(session, feed_dict, fetch_list, target_list, options, run_metadata)\u001b[0m\n\u001b[1;32m   1300\u001b[0m           return tf_session.TF_Run(session, options,\n\u001b[1;32m   1301\u001b[0m                                    \u001b[0mfeed_dict\u001b[0m\u001b[0;34m,\u001b[0m \u001b[0mfetch_list\u001b[0m\u001b[0;34m,\u001b[0m \u001b[0mtarget_list\u001b[0m\u001b[0;34m,\u001b[0m\u001b[0;34m\u001b[0m\u001b[0m\n\u001b[0;32m-> 1302\u001b[0;31m                                    status, run_metadata)\n\u001b[0m\u001b[1;32m   1303\u001b[0m \u001b[0;34m\u001b[0m\u001b[0m\n\u001b[1;32m   1304\u001b[0m     \u001b[0;32mdef\u001b[0m \u001b[0m_prun_fn\u001b[0m\u001b[0;34m(\u001b[0m\u001b[0msession\u001b[0m\u001b[0;34m,\u001b[0m \u001b[0mhandle\u001b[0m\u001b[0;34m,\u001b[0m \u001b[0mfeed_dict\u001b[0m\u001b[0;34m,\u001b[0m \u001b[0mfetch_list\u001b[0m\u001b[0;34m)\u001b[0m\u001b[0;34m:\u001b[0m\u001b[0;34m\u001b[0m\u001b[0m\n",
      "\u001b[0;31mKeyboardInterrupt\u001b[0m: "
     ]
    }
   ],
   "source": [
    "model.train(train_bf, 20)"
   ]
  },
  {
   "cell_type": "code",
   "execution_count": 112,
   "metadata": {
    "collapsed": true
   },
   "outputs": [],
   "source": [
    "sample = model.record[\"x_\"][np.random.randint(45000)]"
   ]
  },
  {
   "cell_type": "code",
   "execution_count": 113,
   "metadata": {},
   "outputs": [
    {
     "data": {
      "image/png": "[encoded data removed]",
      "text/plain": [
       "<matplotlib.figure.Figure at 0x7f7f3d66f490>"
      ]
     },
     "metadata": {},
     "output_type": "display_data"
    }
   ],
   "source": [
    "plt.figure(figsize=(2,2))\n",
    "plt.imshow(sample)\n",
    "plt.xticks([],[])\n",
    "plt.yticks([],[])\n",
    "plt.show()"
   ]
  },
  {
   "cell_type": "code",
   "execution_count": null,
   "metadata": {
    "collapsed": true
   },
   "outputs": [],
   "source": []
  }
 ],
 "metadata": {
  "kernelspec": {
   "display_name": "Python 2",
   "language": "python",
   "name": "python2"
  },
  "language_info": {
   "codemirror_mode": {
    "name": "ipython",
    "version": 2
   },
   "file_extension": ".py",
   "mimetype": "text/x-python",
   "name": "python",
   "nbconvert_exporter": "python",
   "pygments_lexer": "ipython2",
   "version": "2.7.14"
  }
 },
 "nbformat": 4,
 "nbformat_minor": 2
}
