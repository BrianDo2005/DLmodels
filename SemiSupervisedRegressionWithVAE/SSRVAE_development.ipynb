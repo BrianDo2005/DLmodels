{
 "cells": [
  {
   "cell_type": "code",
   "execution_count": 2,
   "metadata": {
    "collapsed": true
   },
   "outputs": [],
   "source": [
    "import tensorflow as tf\n",
    "import math\n",
    "import util\n",
    "import numpy as np\n",
    "import matplotlib.pyplot as plt\n",
    "import sys\n",
    "from IPython import display"
   ]
  },
  {
   "cell_type": "code",
   "execution_count": 57,
   "metadata": {},
   "outputs": [
    {
     "data": {
      "image/png": "[encoded data removed]",
      "text/plain": [
       "<matplotlib.figure.Figure at 0x7efc240f7090>"
      ]
     },
     "metadata": {},
     "output_type": "display_data"
    }
   ],
   "source": [
    "x = []\n",
    "y = []\n",
    "for i in range(10):\n",
    "    x = np.append(x, i)\n",
    "    y = np.append(y, i**2)\n",
    "    plt.gca().cla() \n",
    "    plt.plot(x,y,label='test')\n",
    "    plt.legend()\n",
    "    display.clear_output(wait=True)\n",
    "    if i != 9: display.display(plt.gcf()) \n",
    "    time.sleep(0.5) \n",
    "#plt.gca().cla() "
   ]
  },
  {
   "cell_type": "markdown",
   "metadata": {},
   "source": [
    "# Data"
   ]
  },
  {
   "cell_type": "code",
   "execution_count": 3,
   "metadata": {},
   "outputs": [
    {
     "name": "stdout",
     "output_type": "stream",
     "text": [
      "Extracting MNIST_data/train-images-idx3-ubyte.gz\n",
      "Extracting MNIST_data/train-labels-idx1-ubyte.gz\n",
      "Extracting MNIST_data/t10k-images-idx3-ubyte.gz\n",
      "Extracting MNIST_data/t10k-labels-idx1-ubyte.gz\n"
     ]
    }
   ],
   "source": [
    "from tensorflow.examples.tutorials.mnist import input_data\n",
    "mnist = input_data.read_data_sets(\"MNIST_data/\", one_hot=True)\n",
    "\n",
    "X = mnist.train._images.reshape(55000,784)\n",
    "Y = mnist.train._labels\n",
    "index = np.arange(55000)\n",
    "np.random.seed(1)\n",
    "np.random.shuffle(index)\n",
    "\n",
    "train_unlabeled = util.BatchFeeder(X[index[:53000]], np.zeros(53000), 256)\n",
    "train_labeled = util.BatchFeeder(X[index[53000:54000]], np.argmax(Y[index[53000:54000]], axis=1), 128)\n",
    "test_labeled = (X[index[54000:]], np.argmax(Y[index[54000:]], axis=1))"
   ]
  },
  {
   "cell_type": "code",
   "execution_count": 4,
   "metadata": {},
   "outputs": [
    {
     "name": "stdout",
     "output_type": "stream",
     "text": [
      "[ 0.]\n"
     ]
    },
    {
     "data": {
      "image/png": "[encoded data removed]",
      "text/plain": [
       "<matplotlib.figure.Figure at 0x7efc88d4ccd0>"
      ]
     },
     "metadata": {},
     "output_type": "display_data"
    }
   ],
   "source": [
    "x, y = train_unlabeled.next()\n",
    "print y[0]\n",
    "plt.figure(figsize=(2,2))\n",
    "plt.imshow(x[0].reshape((28,28)), cmap='Greys')\n",
    "plt.show()"
   ]
  },
  {
   "cell_type": "markdown",
   "metadata": {},
   "source": [
    "# Model"
   ]
  },
  {
   "cell_type": "code",
   "execution_count": 115,
   "metadata": {},
   "outputs": [],
   "source": [
    "# Adapted from M2\n",
    "\n",
    "class SSVAERegressor():\n",
    "    def __init__(self):\n",
    "        # Reset all existing tensors\n",
    "        tf.reset_default_graph()\n",
    "        \n",
    "        # Tracking data\n",
    "        self.loss = {\"loss_l\":[],\n",
    "                    \"rec_l\":[],\n",
    "                    \"kld_l\":[],\n",
    "                    \"err_l\":[],\n",
    "                    \"loss_ul\":[],\n",
    "                    \"rec_ul\":[],\n",
    "                    \"kld_ul\":[],\n",
    "                    \"ent_ul\":[],\n",
    "                    \"mse\":[]}\n",
    "        self.record = {}\n",
    "        \n",
    "        # Define some parameters\n",
    "        self.e = 0\n",
    "        self.verbose = False\n",
    "        \n",
    "        # Define dimensionality\n",
    "        self.input_dim = 784\n",
    "        self.dims = [128, 64]\n",
    "        self.latent_dim = 10\n",
    "        self.prediction_dim = 1\n",
    "        self.alpha = 0.1\n",
    "        \n",
    "        # Building the graph\n",
    "        self.built = False\n",
    "        self.sesh = tf.Session()\n",
    "        self.ops = self.build()\n",
    "        self.sesh.run(tf.global_variables_initializer())\n",
    "        writer = tf.summary.FileWriter('logs', self.sesh.graph)\n",
    "        \n",
    "    def build(self):\n",
    "        # Placeholders for input and dropout probs.\n",
    "        if self.built:\n",
    "            return -1\n",
    "        else:\n",
    "            self.built = True\n",
    "            \n",
    "        #####################\n",
    "        # Building networks #\n",
    "        #####################\n",
    "        \n",
    "        # Defining inputs\n",
    "        x_in_labeled = tf.placeholder(tf.float32, shape=[None, self.input_dim], name=\"x_in_labeled\")\n",
    "        x_in_unlabeled = tf.placeholder(tf.float32, shape=[None, self.input_dim], name=\"x_in_unlabeled\")\n",
    "        y = tf.placeholder(tf.float32, shape=[None, self.prediction_dim], name=\"y\")\n",
    "            \n",
    "        # Building network q(z|x)\n",
    "        z_mu_labeled, z_log_sigma_labeled = self.encoder(x_in_labeled,\n",
    "                                                         output_dim=self.latent_dim,\n",
    "                                                         _is_train=True,\n",
    "                                                         scope=\"encoder\")\n",
    "        z_mu_unlabeled, z_log_sigma_unlabeled = self.encoder(x_in_unlabeled,\n",
    "                                                             output_dim=self.latent_dim,\n",
    "                                                             _is_train=True,\n",
    "                                                             scope=\"encoder\", \n",
    "                                                             reuse=True)\n",
    "        \n",
    "        # Building network q(y|x)\n",
    "        y_mu_labeled, y_log_sigma_labeled = self.encoder(x_in_labeled,\n",
    "                                                         output_dim=self.prediction_dim,\n",
    "                                                         _is_train=True,\n",
    "                                                         scope=\"regressor\")\n",
    "        y_mu_unlabeled, y_log_sigma_unlabeled = self.encoder(x_in_unlabeled,\n",
    "                                                             output_dim=self.prediction_dim,\n",
    "                                                             _is_train=True,\n",
    "                                                             scope=\"regressor\",\n",
    "                                                             reuse=True)\n",
    "\n",
    "        \n",
    "        # Sampling from q(z|x) and q(y|x)\n",
    "        z_labeled_sampled = self.sample(z_mu_labeled, z_log_sigma_labeled)\n",
    "        y_labeled_sampled = self.sample(y_mu_labeled, y_log_sigma_labeled)\n",
    "        \n",
    "        z_unlabeled_sampled = self.sample(z_mu_unlabeled, z_log_sigma_unlabeled)\n",
    "        y_unlabeled_sampled = self.sample(y_mu_unlabeled, y_log_sigma_unlabeled)\n",
    "        \n",
    "        # Buiding p(x|z,y) \n",
    "        decoder_in_labeled = tf.concat([z_labeled_sampled, y], axis=1)\n",
    "        x_out_labeled = self.decoder(decoder_in_labeled, _is_train=True, scope=\"decoder\")\n",
    "        \n",
    "        decoder_in_unlabeled = tf.concat([z_unlabeled_sampled, y_unlabeled_sampled], axis=1)\n",
    "        x_out_unlabeled = self.decoder(decoder_in_unlabeled, _is_train=True, scope=\"decoder\", reuse=True)\n",
    "        \n",
    "        \n",
    "        #################\n",
    "        # Defining loss #\n",
    "        #################\n",
    "        \n",
    "        # Defining Loss for labeled data\n",
    "        with tf.variable_scope(\"labeled_loss\"):\n",
    "            rec_loss_labeled = self.crossEntropy(x_out_labeled, x_in_labeled)\n",
    "            kld_labeled = self.KLD(z_mu_labeled, z_log_sigma_labeled)\n",
    "            density_labeled = self.gaussian_log_density(y, y_mu_labeled, y_log_sigma_labeled)\n",
    "            labeled_loss = tf.reduce_mean(rec_loss_labeled + kld_labeled - self.alpha*density_labeled)\n",
    "        \n",
    "        # Defining loss for unlabeled data\n",
    "        with tf.variable_scope(\"unlabeled_loss\"):\n",
    "            rec_loss_unlabeled = self.crossEntropy(x_out_unlabeled, x_in_unlabeled)\n",
    "            kld_unlabeled = self.KLD(z_mu_unlabeled, z_log_sigma_unlabeled)\n",
    "            entropy_unlabeled = self.gaussian_entropy(y_mu_unlabeled, y_log_sigma_unlabeled)\n",
    "            unlabeled_loss = tf.reduce_mean(rec_loss_unlabeled + kld_unlabeled - entropy_unlabeled)\n",
    "        \n",
    "        ################\n",
    "        # Optimization #\n",
    "        ################\n",
    "        update_ops = tf.get_collection(tf.GraphKeys.UPDATE_OPS)\n",
    "        with tf.control_dependencies(update_ops):\n",
    "            labeled_optim = tf.train.AdamOptimizer().minimize(labeled_loss)\n",
    "            unlabeled_optim = tf.train.AdamOptimizer().minimize(unlabeled_loss)\n",
    "            \n",
    "        #########################\n",
    "        # Network for later use #\n",
    "        #########################\n",
    "        x_ = tf.placeholder(tf.float32, shape=[None, self.input_dim], name=\"x\")\n",
    "        # Building network q(y|x)\n",
    "        y_mu_, y_log_sigma_ = self.encoder(x_, output_dim=self.prediction_dim, _is_train=False, scope=\"regressor\", reuse=True)\n",
    "            \n",
    "        return dict(\n",
    "            x_in_labeled = x_in_labeled,\n",
    "            x_in_unlabeled = x_in_unlabeled,\n",
    "            y = y,\n",
    "            y_log_sigma_unlabeled = y_log_sigma_unlabeled,\n",
    "            y_log_sigma_labeled = y_log_sigma_labeled,\n",
    "            rec_loss_unlabeled = rec_loss_unlabeled,\n",
    "            rec_loss_labeled = rec_loss_labeled,\n",
    "            kld_unlabeled = kld_unlabeled,\n",
    "            kld_labeled = kld_labeled,\n",
    "            entropy_unlabeled = entropy_unlabeled,\n",
    "            density_labeled = density_labeled,\n",
    "            unlabeled_loss = unlabeled_loss,\n",
    "            labeled_loss = labeled_loss,\n",
    "            unlabeled_optim = unlabeled_optim,\n",
    "            labeled_optim = labeled_optim,\n",
    "            x_ = x_,\n",
    "            y_mu_ = y_mu_,\n",
    "            y_log_sigma_ = y_log_sigma_\n",
    "        )\n",
    "        \n",
    "    ###########\n",
    "    # Encoder #\n",
    "    ###########\n",
    "    def encoder(self, _input, _is_train, output_dim, _fn=tf.nn.relu, scope=\"encoder\", reuse=None):\n",
    "        with tf.variable_scope(scope, reuse=reuse):\n",
    "            net = _input\n",
    "            for dim in self.dims:\n",
    "                net = tf.contrib.slim.fully_connected(net, dim, activation_fn=tf.identity)\n",
    "                if self.verbose: print net\n",
    "                net = tf.contrib.layers.batch_norm(net, is_training=_is_train)\n",
    "                net = _fn(net)\n",
    "            \n",
    "            mu = tf.contrib.slim.fully_connected(net, output_dim, activation_fn=tf.identity)\n",
    "            log_sigma = tf.contrib.slim.fully_connected(net, output_dim, activation_fn=tf.identity)\n",
    "            if self.verbose: print mu, log_sigma\n",
    "            return mu, log_sigma\n",
    "                \n",
    "    ###########\n",
    "    # Decoder #\n",
    "    ###########\n",
    "    def decoder(self, _input, _is_train, _fn=tf.nn.relu, scope=\"decoder\", reuse=None):\n",
    "        with tf.variable_scope(scope, reuse=reuse):\n",
    "            net = _input\n",
    "            for dim in self.dims[::-1]:\n",
    "                net = tf.contrib.slim.fully_connected(net, dim, activation_fn=tf.identity)\n",
    "                if self.verbose: print net\n",
    "                net = tf.contrib.layers.batch_norm(net, is_training=_is_train)\n",
    "                net = _fn(net)\n",
    "            \n",
    "            output = tf.contrib.slim.fully_connected(net, self.input_dim, activation_fn=tf.sigmoid)\n",
    "            if self.verbose: print output\n",
    "            return output\n",
    "        \n",
    "    ###########\n",
    "    # Sampler # \n",
    "    ###########\n",
    "    def sample(self, mu, log_sigma):\n",
    "        with tf.variable_scope(\"sample\"):\n",
    "            eps = tf.random_normal(tf.shape(log_sigma))\n",
    "            return mu + eps * tf.exp(log_sigma)\n",
    "        \n",
    "    #########################################\n",
    "    # KL divergence of Gaussian from N(0,1) #\n",
    "    #########################################\n",
    "    def KLD(self, mu, log_sigma):\n",
    "        with tf.name_scope(\"KLD\"):\n",
    "            return -0.5 * tf.reduce_sum(1 + 2 * log_sigma - mu**2 - tf.exp(2 * log_sigma), 1)\n",
    "        \n",
    "    #######################\n",
    "    # Entropy of Gaussian #\n",
    "    #######################\n",
    "    def gaussian_entropy(self, mu, log_sigma):\n",
    "        with tf.name_scope(\"gaussian_entropy\"):\n",
    "            return 0.5 * tf.reduce_sum(tf.log(2 * math.pi * math.e) + 2*log_sigma, 1)\n",
    "\n",
    "    ########################\n",
    "    # Gaussian log density #\n",
    "    ########################\n",
    "    def gaussian_log_density(self, x, mu, log_sigma):\n",
    "        with tf.name_scope(\"gaussian_log_density\"):\n",
    "            c = - 0.5 * math.log(2 * math.pi)\n",
    "            density = c - 2*log_sigma / 2 - tf.squared_difference(x, mu) / (2 * tf.exp(2 * log_sigma))\n",
    "            return tf.reduce_sum(density, axis=-1)\n",
    "    \n",
    "    #######################\n",
    "    # Binary Crossentropy #\n",
    "    #######################\n",
    "    def crossEntropy(self, pred, target, offset=1e-7):\n",
    "        with tf.name_scope(\"BinearyXent\"):\n",
    "            pred_ = tf.clip_by_value(pred, offset, 1 - offset)\n",
    "            return -tf.reduce_sum(target * tf.log(pred_) + (1 - target) * tf.log(1 - pred_), 1)\n",
    "   \n",
    "    ############\n",
    "    # Training #\n",
    "    ############\n",
    "    def train(self, X_labeled, X_unlabeled, epochs, valid=None):\n",
    "        e = 0\n",
    "        start_e = self.e\n",
    "        while e < epochs:\n",
    "            for i in range(X_labeled.batch_num):\n",
    "                # Get data\n",
    "                x_labeled, y = X_labeled.next()\n",
    "                x_unlabeled, _ = X_unlabeled.next()\n",
    "                \n",
    "                # Training with labeled data\n",
    "                feed_dict = {self.ops[\"x_in_labeled\"]: x_labeled,\n",
    "                             self.ops[\"x_in_unlabeled\"]: x_unlabeled,\n",
    "                             self.ops[\"y\"]: y}\n",
    "                ops_to_run = [self.ops[\"y_log_sigma_labeled\"],\n",
    "                              self.ops[\"rec_loss_labeled\"],\n",
    "                              self.ops[\"kld_labeled\"],\n",
    "                              self.ops[\"density_labeled\"],\n",
    "                              self.ops[\"labeled_loss\"],\n",
    "                              self.ops[\"labeled_optim\"]]\n",
    "                ls, rec_l, kld_l, err_l, loss_l, _ = self.sesh.run(ops_to_run, feed_dict)\n",
    "                \n",
    "                # Training with unlabeled data\n",
    "                ops_to_run = [self.ops[\"y_log_sigma_unlabeled\"],\n",
    "                              self.ops[\"rec_loss_unlabeled\"],\n",
    "                              self.ops[\"kld_unlabeled\"],\n",
    "                              self.ops[\"entropy_unlabeled\"],\n",
    "                              self.ops[\"unlabeled_loss\"],\n",
    "                              self.ops[\"unlabeled_optim\"]]\n",
    "                ls, rec_ul, kld_ul, ent_ul, loss_ul, _ = self.sesh.run(ops_to_run, feed_dict)\n",
    "                \n",
    "                # Use Validation\n",
    "                if valid != None:\n",
    "                    mu, sigma = self.predict(valid[0])\n",
    "                    mse = np.mean(np.square(valid[1]-mu[:, 0]))\n",
    "                    \n",
    "                # Track loss\n",
    "                self.loss[\"loss_l\"].append(loss_l)\n",
    "                self.loss[\"rec_l\"].append(np.mean(rec_l))\n",
    "                self.loss[\"kld_l\"].append(np.mean(kld_l))\n",
    "                self.loss[\"err_l\"].append(np.mean(err_l))\n",
    "                self.loss[\"loss_ul\"].append(loss_ul)\n",
    "                self.loss[\"rec_ul\"].append(np.mean(rec_ul))\n",
    "                self.loss[\"kld_ul\"].append(np.mean(kld_ul))\n",
    "                self.loss[\"ent_ul\"].append(np.mean(ent_ul))\n",
    "                self.loss[\"mse\"].append(mse)\n",
    "                    \n",
    "                # Print loss\n",
    "                loss = loss_l+loss_ul\n",
    "                kld = np.mean(kld_l)+np.mean(kld_ul)\n",
    "                rec = np.mean(rec_l)+np.mean(rec_ul)\n",
    "                if valid!=None:\n",
    "                    sys.stdout.write(\"\\rEpoch: [%2d/%2d] loss: %.2f, kld: %.2f, rec: %.2f, logdensity(labeled): %.2f, entropy(unlabeled): %.2f, mse: %.2f\"\n",
    "                                     %(self.e, start_e+epochs, loss, kld, rec, np.mean(err_l), np.mean(ent_ul), mse))\n",
    "                else:\n",
    "                    sys.stdout.write(\"\\rEpoch: [%2d/%2d] loss: %.2f, kld: %.2f, rec: %.2f, logdensity(labeled): %.2f, entropy(unlabeled): %.2f\"\n",
    "                                     %(self.e, start_e+epochs, loss, kld, rec, np.mean(err_l), np.mean(ent_ul)))\n",
    "            self.e+=1\n",
    "            e+= 1\n",
    "            \n",
    "    def plotinfo(self, filename=\"\"):\n",
    "        plt.figure(figsize=(12,9))\n",
    "        \n",
    "        plt.subplot(331)\n",
    "        plt.plot(self.loss[\"loss_l\"])\n",
    "        plt.xticks([],[])\n",
    "        plt.title(\"Labeled loss\")\n",
    "        \n",
    "        plt.subplot(332)\n",
    "        plt.plot(self.loss[\"loss_ul\"])\n",
    "        plt.xticks([],[])\n",
    "        plt.title(\"Unlabeled loss\")\n",
    "        \n",
    "        plt.subplot(333)\n",
    "        plt.plot(self.loss[\"rec_l\"])\n",
    "        plt.xticks([],[])\n",
    "        plt.title(\"Labeled reconstruction loss\")\n",
    "        \n",
    "        plt.subplot(334)\n",
    "        plt.plot(self.loss[\"rec_ul\"])\n",
    "        plt.xticks([],[])\n",
    "        plt.title(\"Unlabeled reconstruction loss\")\n",
    "        \n",
    "        plt.subplot(335)\n",
    "        plt.plot(self.loss[\"kld_l\"])\n",
    "        plt.xticks([],[])\n",
    "        plt.title(\"Labeled KLDivergence\")\n",
    "        \n",
    "        plt.subplot(336)\n",
    "        plt.plot(self.loss[\"kld_ul\"])\n",
    "        plt.xticks([],[])\n",
    "        plt.title(\"Unlabeled KLDivergence\")\n",
    "        \n",
    "        plt.subplot(337)\n",
    "        plt.plot(self.loss[\"err_l\"])\n",
    "        plt.title(\"Labeled LogDensity\")\n",
    "        \n",
    "        plt.subplot(338)\n",
    "        plt.plot(self.loss[\"ent_ul\"])\n",
    "        plt.title(\"Unlabeled entropy\")\n",
    "        \n",
    "        plt.subplot(339)\n",
    "        plt.plot(self.loss[\"mse\"])\n",
    "        plt.title(\"Test MSE\")\n",
    "        \n",
    "        if filename == \"\":\n",
    "            plt.show()\n",
    "        else:\n",
    "            plt.savefig(filename)\n",
    "            \n",
    "    ##############\n",
    "    # Prediction #\n",
    "    ##############\n",
    "    def predict(self, x=None):\n",
    "        return self.sesh.run([self.ops[\"y_mu_\"], self.ops[\"y_log_sigma_\"]], {self.ops[\"x_\"]: x})"
   ]
  },
  {
   "cell_type": "code",
   "execution_count": 119,
   "metadata": {},
   "outputs": [],
   "source": [
    "model = SSVAERegressor()"
   ]
  },
  {
   "cell_type": "code",
   "execution_count": 122,
   "metadata": {},
   "outputs": [
    {
     "name": "stdout",
     "output_type": "stream",
     "text": [
      "Epoch: [499/500] loss: 205.57, kld: 34.87, rec: 171.69, logdensity(labeled): -0.73, entropy(unlabeled): 1.07, mse: 3.73"
     ]
    }
   ],
   "source": [
    "model.train(train_labeled, train_unlabeled, 400, valid=test_labeled)"
   ]
  },
  {
   "cell_type": "code",
   "execution_count": 121,
   "metadata": {},
   "outputs": [
    {
     "data": {
      "image/png": "[encoded data removed]",
      "text/plain": [
       "<matplotlib.figure.Figure at 0x7efc60e7d8d0>"
      ]
     },
     "metadata": {},
     "output_type": "display_data"
    }
   ],
   "source": [
    "model.plotinfo()"
   ]
  },
  {
   "cell_type": "code",
   "execution_count": null,
   "metadata": {},
   "outputs": [],
   "source": [
    "mu, sigma = model.predict(test_labeled[0])"
   ]
  },
  {
   "cell_type": "markdown",
   "metadata": {},
   "source": [
    "# Compare this to logistic regression"
   ]
  },
  {
   "cell_type": "code",
   "execution_count": 16,
   "metadata": {},
   "outputs": [],
   "source": [
    "import sklearn.linear_model as lm"
   ]
  },
  {
   "cell_type": "code",
   "execution_count": 17,
   "metadata": {
    "collapsed": true
   },
   "outputs": [],
   "source": [
    "model2 = lm.Ridge()"
   ]
  },
  {
   "cell_type": "code",
   "execution_count": 28,
   "metadata": {},
   "outputs": [
    {
     "data": {
      "text/plain": [
       "Ridge(alpha=1.0, copy_X=True, fit_intercept=True, max_iter=None,\n",
       "   normalize=False, random_state=None, solver='auto', tol=0.001)"
      ]
     },
     "execution_count": 28,
     "metadata": {},
     "output_type": "execute_result"
    }
   ],
   "source": [
    "model2.fit(X[index[53000:54000]], np.argmax(Y[index[53000:54000]], axis=1))"
   ]
  },
  {
   "cell_type": "code",
   "execution_count": 29,
   "metadata": {},
   "outputs": [],
   "source": [
    "pred = model2.predict(test_labeled[0])"
   ]
  },
  {
   "cell_type": "code",
   "execution_count": 30,
   "metadata": {},
   "outputs": [
    {
     "data": {
      "text/plain": [
       "5.618522543199898"
      ]
     },
     "execution_count": 30,
     "metadata": {},
     "output_type": "execute_result"
    }
   ],
   "source": [
    "np.mean(np.square(test_labeled[1]-pred))"
   ]
  },
  {
   "cell_type": "markdown",
   "metadata": {},
   "source": [
    "# Compare to the same MLP"
   ]
  },
  {
   "cell_type": "code",
   "execution_count": 38,
   "metadata": {},
   "outputs": [],
   "source": [
    "# Adapted from M2\n",
    "\n",
    "class MLP():\n",
    "    def __init__(self):\n",
    "        # Reset all existing tensors\n",
    "        tf.reset_default_graph()\n",
    "        \n",
    "        # Tracking data\n",
    "        self.loss = {}\n",
    "        self.record = {}\n",
    "        \n",
    "        # Define some parameters\n",
    "        self.e = 0\n",
    "        self.verbose = False\n",
    "        \n",
    "        # Define dimensionality\n",
    "        self.input_dim = 784\n",
    "        self.dims = [128, 64]\n",
    "        self.prediction_dim = 1\n",
    "        \n",
    "        # Building the graph\n",
    "        self.built = False\n",
    "        self.sesh = tf.Session()\n",
    "        self.ops = self.build()\n",
    "        self.sesh.run(tf.global_variables_initializer())\n",
    "        writer = tf.summary.FileWriter('logs', self.sesh.graph)\n",
    "        \n",
    "    def build(self):\n",
    "        # Placeholders for input and dropout probs.\n",
    "        if self.built:\n",
    "            return -1\n",
    "        else:\n",
    "            self.built = True\n",
    "            \n",
    "        #####################\n",
    "        # Building networks #\n",
    "        #####################\n",
    "        \n",
    "        # Defining inputs\n",
    "        x_in_labeled = tf.placeholder(tf.float32, shape=[None, self.input_dim], name=\"x_in_labeled\")\n",
    "        y = tf.placeholder(tf.float32, shape=[None, self.prediction_dim], name=\"y\")\n",
    "        \n",
    "        # Building network q(y|x)\n",
    "        pred = self.encoder(x_in_labeled,\n",
    "                            output_dim=self.prediction_dim,\n",
    "                            _is_train=True,\n",
    "                            scope=\"regressor\")\n",
    "        \n",
    "        \n",
    "        #################\n",
    "        # Defining loss #\n",
    "        #################\n",
    "        \n",
    "        # Defining Loss for labeled data\n",
    "        with tf.variable_scope(\"loss\"):\n",
    "            loss = tf.reduce_mean(tf.square(y-pred))\n",
    "        \n",
    "        ################\n",
    "        # Optimization #\n",
    "        ################\n",
    "        update_ops = tf.get_collection(tf.GraphKeys.UPDATE_OPS)\n",
    "        with tf.control_dependencies(update_ops):\n",
    "            optim = tf.train.AdamOptimizer().minimize(loss)\n",
    "            \n",
    "        #########################\n",
    "        # Network for later use #\n",
    "        #########################\n",
    "        x_ = tf.placeholder(tf.float32, shape=[None, self.input_dim], name=\"x\")\n",
    "        # Building network q(y|x)\n",
    "        pred_= self.encoder(x_, output_dim=self.prediction_dim, _is_train=False, scope=\"regressor\", reuse=True)\n",
    "            \n",
    "        return dict(\n",
    "            x_in_labeled = x_in_labeled,\n",
    "            y = y,\n",
    "            x_ = x_,\n",
    "            pred_ = pred_,\n",
    "            optim = optim,\n",
    "            loss = loss\n",
    "        )\n",
    "        \n",
    "    ###########\n",
    "    # Encoder #\n",
    "    ###########\n",
    "    def encoder(self, _input, _is_train, output_dim, _fn=tf.nn.relu, scope=\"encoder\", reuse=None):\n",
    "        with tf.variable_scope(scope, reuse=reuse):\n",
    "            net = _input\n",
    "            for dim in self.dims:\n",
    "                net = tf.contrib.slim.fully_connected(net, dim, activation_fn=tf.identity)\n",
    "                if self.verbose: print net\n",
    "                net = tf.contrib.layers.batch_norm(net, is_training=_is_train)\n",
    "                net = _fn(net)\n",
    "            \n",
    "            mu = tf.contrib.slim.fully_connected(net, output_dim, activation_fn=tf.identity)\n",
    "            if self.verbose: print mu, log_sigma\n",
    "            return mu\n",
    "   \n",
    "    ############\n",
    "    # Training #\n",
    "    ############\n",
    "    def train(self, X_labeled, epochs, valid=None):\n",
    "        e = 0\n",
    "        start_e = self.e\n",
    "        while e < epochs:\n",
    "            for i in range(X_labeled.batch_num):\n",
    "                \n",
    "                # Get data\n",
    "                x_labeled, y = X_labeled.next()\n",
    "                \n",
    "                # Training with labeled data\n",
    "                feed_dict = {self.ops[\"x_in_labeled\"]: x_labeled,\n",
    "                             self.ops[\"y\"]: y}\n",
    "                ops_to_run = [self.ops[\"loss\"],\n",
    "                              self.ops[\"optim\"]]\n",
    "                loss, _ = self.sesh.run(ops_to_run, feed_dict)\n",
    "                \n",
    "                # Use Validation\n",
    "                if valid != None:\n",
    "                    pred = self.predict(valid[0])\n",
    "                    mse = np.mean(np.square(valid[1]-pred[:, 0]))\n",
    "                    \n",
    "                \n",
    "                if valid!=None:\n",
    "                    sys.stdout.write(\"\\rEpoch: [%2d/%2d] loss: %.2f, mse: %.2f\"\n",
    "                                     %(self.e, start_e+epochs, loss, mse))\n",
    "                else:\n",
    "                    sys.stdout.write(\"\\rEpoch: [%2d/%2d] loss: %.2f\"\n",
    "                                     %(self.e, start_e+epochs, loss))\n",
    "\n",
    "            self.e+=1\n",
    "            e+= 1\n",
    "            \n",
    "    ##############\n",
    "    # Prediction #\n",
    "    ##############\n",
    "    def predict(self, x=None):\n",
    "        return self.sesh.run(self.ops[\"pred_\"], {self.ops[\"x_\"]: x})"
   ]
  },
  {
   "cell_type": "code",
   "execution_count": 40,
   "metadata": {},
   "outputs": [],
   "source": [
    "model3 = MLP()"
   ]
  },
  {
   "cell_type": "code",
   "execution_count": 42,
   "metadata": {},
   "outputs": [
    {
     "name": "stdout",
     "output_type": "stream",
     "text": [
      "Epoch: [1242/1243] loss: 0.02, mse: 2.06"
     ]
    }
   ],
   "source": [
    "model3.train(train_labeled, 1000, valid=test_labeled)"
   ]
  }
 ],
 "metadata": {
  "kernelspec": {
   "display_name": "Python 2",
   "language": "python",
   "name": "python2"
  },
  "language_info": {
   "codemirror_mode": {
    "name": "ipython",
    "version": 2
   },
   "file_extension": ".py",
   "mimetype": "text/x-python",
   "name": "python",
   "nbconvert_exporter": "python",
   "pygments_lexer": "ipython2",
   "version": "2.7.14"
  }
 },
 "nbformat": 4,
 "nbformat_minor": 2
}
