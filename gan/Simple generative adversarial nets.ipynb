{
 "cells": [
  {
   "cell_type": "code",
   "execution_count": 3,
   "metadata": {
    "collapsed": false
   },
   "outputs": [],
   "source": [
    "import os\n",
    "os.environ[\"CUDA_DEVICE_ORDER\"]=\"PCI_BUS_ID\"   # see issue #152\n",
    "os.environ[\"CUDA_VISIBLE_DEVICES\"]=\"1\"\n",
    "\n",
    "import numpy as np\n",
    "import util\n",
    "\n",
    "import matplotlib.pyplot as plt\n",
    "import tensorflow as tf"
   ]
  },
  {
   "cell_type": "markdown",
   "metadata": {},
   "source": [
    "# MNIST loader"
   ]
  },
  {
   "cell_type": "code",
   "execution_count": 69,
   "metadata": {
    "collapsed": false
   },
   "outputs": [
    {
     "name": "stdout",
     "output_type": "stream",
     "text": [
      "Extracting MNIST_data/train-images-idx3-ubyte.gz\n",
      "Extracting MNIST_data/train-labels-idx1-ubyte.gz\n",
      "Extracting MNIST_data/t10k-images-idx3-ubyte.gz\n",
      "Extracting MNIST_data/t10k-labels-idx1-ubyte.gz\n"
     ]
    }
   ],
   "source": [
    "from tensorflow.examples.tutorials.mnist import input_data\n",
    "mnist = input_data.read_data_sets(\"MNIST_data/\", one_hot=True)\n",
    "\n",
    "X = mnist.train._images.reshape(55000, 28, 28, 1)\n",
    "Y = mnist.train._labels\n",
    "index = np.arange(55000)\n",
    "np.random.shuffle(index)\n",
    "\n",
    "train_bf = util.BatchFeeder(X[index[:54000]], Y[index[:54000]], 128)\n",
    "valid_bf = util.BatchFeeder(X[index[54000:]], Y[index[54000:]], 32)"
   ]
  },
  {
   "cell_type": "markdown",
   "metadata": {},
   "source": [
    "# Generative adversarial nets code"
   ]
  },
  {
   "cell_type": "code",
   "execution_count": 85,
   "metadata": {
    "collapsed": true
   },
   "outputs": [],
   "source": [
    "class GAN:\n",
    "    def __init__(self, latent_dim=5):\n",
    "        # Reset all existing tensors\n",
    "        tf.reset_default_graph()\n",
    "        \n",
    "        # Define parameters of the encoder\n",
    "        self.input_dim = (28, 28, 1)\n",
    "        \n",
    "        # Dimension of the sub-netowrks.\n",
    "        self.latent_dim = latent_dim\n",
    "        self.generator_dim = [128, 64, 32, 1]\n",
    "        self.discriminator_dim = [32, 64, 128, 1]\n",
    "        self.batchsize = 128\n",
    "        self.filtersize = (3,3)\n",
    "        \n",
    "        # Activation function is tf.nn.elu\n",
    "        self.gen_fn = tf.nn.relu\n",
    "        self.dis_fn = tf.nn.elu\n",
    "        \n",
    "        # Other parameters\n",
    "        self.learning_rate = 0.001\n",
    "        self.g_lr = 0.001 # 0.0025\n",
    "        self.d_lr = 0.0005 # 1e-5\n",
    "        \n",
    "        # Build netowrk\n",
    "        self.built = False\n",
    "        self.sesh = tf.Session()\n",
    "        self.e = 0\n",
    "        \n",
    "        # Tracking data\n",
    "        self.learning_curve = []\n",
    "        self.record = {\"generated\":[]}\n",
    "        \n",
    "        # Building the graph\n",
    "        self.ops = self.build()\n",
    "        self.sesh.run(tf.global_variables_initializer())\n",
    "    \n",
    "    def build(self):\n",
    "        # Placeholders for input and dropout probs.\n",
    "        if self.built:\n",
    "            return -1\n",
    "        else:\n",
    "            self.built = True\n",
    "        \n",
    "        x = tf.placeholder(tf.float32, shape=[self.batchsize]+list(self.input_dim), name=\"x\")\n",
    "        z = tf.random_normal(shape=[self.batchsize, self.latent_dim])\n",
    "        bn = tf.placeholder(tf.bool, shape=[])\n",
    "        \n",
    "        \n",
    "        # defining G(z)\n",
    "        gz = self.generator(z, bn)\n",
    "        \n",
    "        # making sure that the dimesionality of inputs matches.\n",
    "        assert gz.shape == x.shape\n",
    "        \n",
    "        # defining D(G(z)) and D(x)\n",
    "        dgz, dgz_pre = self.discriminator(gz, bn)\n",
    "        dx, dx_pre = self.discriminator(x, bn, reuse=True)\n",
    "        \n",
    "        # Compute losses\n",
    "        d_loss = tf.nn.sigmoid_cross_entropy_with_logits(logits=dx_pre, labels=tf.ones_like(dx))\\\n",
    "        + tf.nn.sigmoid_cross_entropy_with_logits(logits=dgz_pre, labels=tf.zeros_like(dgz))\n",
    "        d_loss = tf.reduce_mean(d_loss)\n",
    "        \n",
    "        g_loss = tf.nn.sigmoid_cross_entropy_with_logits(logits=dgz_pre, labels=tf.ones_like(dgz))\n",
    "        g_loss = tf.reduce_mean(g_loss)\n",
    "        \n",
    "        # Compute discriminator accuracy\n",
    "        x_correct = tf.reduce_sum(tf.cast(dx > 0.5, tf.int32))\n",
    "        z_correct = tf.reduce_sum(tf.cast(dgz < 0.5, tf.int32))\n",
    "        acc = tf.divide(x_correct + z_correct, 2 * self.batchsize)\n",
    "        \n",
    "        \n",
    "        update_ops = tf.get_collection(tf.GraphKeys.UPDATE_OPS)\n",
    "        with tf.control_dependencies(update_ops):\n",
    "            # Define optimizers\n",
    "            opt_g = tf.train.AdamOptimizer(learning_rate=self.g_lr,beta1=0.5)\n",
    "            opt_d = tf.train.AdamOptimizer(learning_rate=self.d_lr, beta1=0.5)\n",
    "            \n",
    "            # Get weights\n",
    "            g_vars = [v for v in tf.trainable_variables() if \"generator\" in v.name]\n",
    "            d_vars = [v for v in tf.trainable_variables() if \"discriminator\" in v.name]\n",
    "            \n",
    "            # Defining training processs for generator\n",
    "            grads_and_vars = opt_g.compute_gradients(g_loss, g_vars)\n",
    "            clipped = [(tf.clip_by_value(grad, -5, 5), tvar) for grad, tvar in grads_and_vars]\n",
    "            train_g = opt_g.apply_gradients(clipped, name=\"minimize_g_loss\")\n",
    "            \n",
    "            # Defining training processs for generator\n",
    "            grads_and_vars = opt_d.compute_gradients(d_loss, d_vars)\n",
    "            clipped = [(tf.clip_by_value(grad, -5, 5), tvar) for grad, tvar in grads_and_vars]\n",
    "            train_d = opt_d.apply_gradients(clipped, name=\"minimize_d_loss\")\n",
    "            \n",
    "        # Building independent generator\n",
    "        z_ = tf.placeholder_with_default(tf.random_normal([self.batchsize, self.latent_dim]),\n",
    "                                            shape=[self.batchsize, self.latent_dim],\n",
    "                                            name=\"latent_input\")\n",
    "        gz_ = self.generator(z, bn, reuse=True)\n",
    "        \n",
    "        # Exporting out the operaions as dictionary\n",
    "        return dict(\n",
    "            x = x,\n",
    "            z = z,\n",
    "            generated = gz,\n",
    "            z_ = z_,\n",
    "            generated_ = gz_,\n",
    "            dx = dx,\n",
    "            dgz = dgz,\n",
    "            d_loss = d_loss,\n",
    "            g_loss = g_loss,\n",
    "            train_d = train_d,\n",
    "            train_g = train_g,\n",
    "            acc = acc,\n",
    "            bn = bn\n",
    "        )\n",
    "    \n",
    "    def discriminator(self, _input, bn, reuse=None):\n",
    "        with tf.variable_scope(\"discriminator\", reuse=reuse):\n",
    "            \n",
    "            # layer 1\n",
    "            n_filt = self.discriminator_dim[0]\n",
    "            layer1 = tf.layers.conv2d(_input, n_filt, self.filtersize, strides=(2,2), padding=\"same\", activation=None)\n",
    "            layer1 = tf.contrib.layers.batch_norm(layer1, is_training=bn)\n",
    "            layer1 = self.dis_fn(layer1)\n",
    "            \n",
    "            # layer 2\n",
    "            n_filt = self.discriminator_dim[1]\n",
    "            layer2 = tf.layers.conv2d(layer1, n_filt, self.filtersize, strides=(2,2), padding=\"same\", activation=None)\n",
    "            layer2 = tf.contrib.layers.batch_norm(layer2, is_training=bn)\n",
    "            layer2 = self.dis_fn(layer2)\n",
    "            \n",
    "            # layer 3\n",
    "            n_filt = self.discriminator_dim[2]\n",
    "            layer3 = tf.layers.conv2d(layer2, n_filt, self.filtersize, strides=(2,2), padding=\"valid\", activation=None)\n",
    "            layer3 = tf.contrib.layers.batch_norm(layer3, is_training=bn)\n",
    "            layer3 = self.dis_fn(layer3)\n",
    "            \n",
    "            # layer 4\n",
    "            n_filt = self.discriminator_dim[3]\n",
    "            layer4 = tf.layers.conv2d(layer3, n_filt, self.filtersize, strides=(1,1), padding=\"valid\", activation=None)\n",
    "            layer4 = tf.contrib.layers.batch_norm(layer4, is_training=bn)\n",
    "            output = tf.nn.sigmoid(layer4)\n",
    "            \n",
    "            print \"===D===\"\n",
    "            print layer1\n",
    "            print layer2\n",
    "            print layer3\n",
    "            print layer4\n",
    "            print \n",
    "            \n",
    "            return output, layer4\n",
    "        \n",
    "    \n",
    "    def generator(self, _input, bn, reuse=None):\n",
    "        \n",
    "        with tf.variable_scope(\"generator\", reuse=reuse):\n",
    "            _input = tf.reshape(_input, (self.batchsize, 1, 1, self.latent_dim))\n",
    "            \n",
    "            # layer 1 (outputs: 512x4x4x4)\n",
    "            n_filt = self.generator_dim[0]\n",
    "            layer1 = tf.layers.conv2d_transpose(_input, n_filt, self.filtersize, strides=(1,1), padding=\"valid\", activation=None)\n",
    "            layer1 = tf.contrib.layers.batch_norm(layer1, is_training=bn)\n",
    "            layer1 = self.gen_fn(layer1)\n",
    "            \n",
    "            # layer 2 (outputs: 256x8x8x8)\n",
    "            n_filt = self.generator_dim[1]\n",
    "            layer2 = tf.layers.conv2d_transpose(layer1, n_filt, self.filtersize, strides=(2,2), padding=\"valid\", activation=None)\n",
    "            layer2 = tf.contrib.layers.batch_norm(layer2, is_training=bn)\n",
    "            layer2 = self.gen_fn(layer2)\n",
    "            \n",
    "            # layer 3 (outputs: 128x16x16x16)\n",
    "            n_filt = self.generator_dim[2]\n",
    "            layer3 = tf.layers.conv2d_transpose(layer2, n_filt, self.filtersize, strides=(2,2), padding=\"same\", activation=None)\n",
    "            layer3 = tf.contrib.layers.batch_norm(layer3, is_training=bn)\n",
    "            layer3 = self.gen_fn(layer3)\n",
    "            \n",
    "            # layer 4 (outputs: 64x32x32x32)\n",
    "            n_filt = self.generator_dim[3]\n",
    "            layer4 = tf.layers.conv2d_transpose(layer3, n_filt, self.filtersize, strides=(2,2), padding=\"same\", activation=None)\n",
    "            layer4 = tf.contrib.layers.batch_norm(layer4, is_training=bn)\n",
    "            layer4 = tf.nn.sigmoid(layer4)\n",
    "            \n",
    "            print \"===G===\"\n",
    "            print layer1\n",
    "            print layer2\n",
    "            print layer3\n",
    "            print layer4\n",
    "            print\n",
    "            \n",
    "            return layer4\n",
    "        \n",
    "    def decode(self, z=None):\n",
    "        feed_dict = dict()\n",
    "        if z is not None:\n",
    "            feed_dict = {self.ops[\"z_\"]: z, self.ops[\"bn\"]: False}\n",
    "        else:\n",
    "            feed_dict = {self.ops[\"bn\"]: False}\n",
    "        return self.sesh.run(self.ops[\"generated_\"], feed_dict)\n",
    "    \n",
    "    # Closing session\n",
    "    def close(self):\n",
    "        self.sesh.close()\n",
    "        \n",
    "    def train(self, X, epochs):\n",
    "        # Making the saver object.\n",
    "        saver = tf.train.Saver()\n",
    "        \n",
    "        # Defining the number of batches per epoch\n",
    "        batch_num = int(np.ceil(X.n*1.0/X.batch_size))\n",
    "        \n",
    "        e = 0\n",
    "        while e < epochs:\n",
    "            epoch_cost = {\"dloss\":[], \"gloss\":[]}\n",
    "            \n",
    "            if e == epochs-1: self.latent_record = {\"generated\":[]}\n",
    "            \n",
    "            for i in range(batch_num):\n",
    "                \n",
    "                #if i%(batch_num/10)==0:\n",
    "                #    print i, batch_num\n",
    "                #Training happens here.\n",
    "                batch = X.next()\n",
    "                feed_dict = {self.ops[\"x\"]: batch[0], self.ops[\"bn\"]: True}\n",
    "                \n",
    "                #Compute loss\n",
    "                d_loss = self.sesh.run(self.ops[\"d_loss\"], feed_dict)\n",
    "                g_loss = self.sesh.run(self.ops[\"g_loss\"], feed_dict)\n",
    "                acc = self.sesh.run(self.ops[\"acc\"], feed_dict)\n",
    "                generated = self.sesh.run(self.ops[\"generated\"], feed_dict)\n",
    "                \n",
    "                if acc < 0.8: # make it a parameter\n",
    "                    self.sesh.run(self.ops[\"train_d\"], feed_dict)\n",
    "                self.sesh.run(self.ops[\"train_g\"], feed_dict)\n",
    "                \n",
    "                #Record what you need\n",
    "                if e == epochs-1: self.record[\"generated\"] = self.record[\"generated\"] + [_ for _ in generated]\n",
    "                epoch_cost[\"dloss\"].append(d_loss)\n",
    "                epoch_cost[\"gloss\"].append(g_loss)\n",
    "            \n",
    "            self.e+=1\n",
    "            e+= 1\n",
    "                \n",
    "            print \"Epoch:\"+str(self.e), \"Loss(D)\", d_loss, \"Loss(G)\", g_loss\n",
    "            self.learning_curve.append(epoch_cost)"
   ]
  },
  {
   "cell_type": "markdown",
   "metadata": {},
   "source": [
    "# Training on MNIST data"
   ]
  },
  {
   "cell_type": "code",
   "execution_count": 86,
   "metadata": {
    "collapsed": false
   },
   "outputs": [
    {
     "name": "stdout",
     "output_type": "stream",
     "text": [
      "===G===\n",
      "Tensor(\"generator/Relu:0\", shape=(128, 3, 3, 128), dtype=float32)\n",
      "Tensor(\"generator/Relu_1:0\", shape=(128, 7, 7, 64), dtype=float32)\n",
      "Tensor(\"generator/Relu_2:0\", shape=(128, 14, 14, 32), dtype=float32)\n",
      "Tensor(\"generator/Sigmoid:0\", shape=(128, 28, 28, 1), dtype=float32)\n",
      "\n",
      "===D===\n",
      "Tensor(\"discriminator/Elu:0\", shape=(128, 14, 14, 32), dtype=float32)\n",
      "Tensor(\"discriminator/Elu_1:0\", shape=(128, 7, 7, 64), dtype=float32)\n",
      "Tensor(\"discriminator/Elu_2:0\", shape=(128, 3, 3, 128), dtype=float32)\n",
      "Tensor(\"discriminator/BatchNorm_3/batchnorm/add_1:0\", shape=(128, 1, 1, 1), dtype=float32)\n",
      "\n",
      "===D===\n",
      "Tensor(\"discriminator_1/Elu:0\", shape=(128, 14, 14, 32), dtype=float32)\n",
      "Tensor(\"discriminator_1/Elu_1:0\", shape=(128, 7, 7, 64), dtype=float32)\n",
      "Tensor(\"discriminator_1/Elu_2:0\", shape=(128, 3, 3, 128), dtype=float32)\n",
      "Tensor(\"discriminator_1/BatchNorm_3/batchnorm/add_1:0\", shape=(128, 1, 1, 1), dtype=float32)\n",
      "\n",
      "===G===\n",
      "Tensor(\"generator_1/Relu:0\", shape=(128, 3, 3, 128), dtype=float32)\n",
      "Tensor(\"generator_1/Relu_1:0\", shape=(128, 7, 7, 64), dtype=float32)\n",
      "Tensor(\"generator_1/Relu_2:0\", shape=(128, 14, 14, 32), dtype=float32)\n",
      "Tensor(\"generator_1/Sigmoid:0\", shape=(128, 28, 28, 1), dtype=float32)\n",
      "\n"
     ]
    }
   ],
   "source": [
    "m = GAN()"
   ]
  },
  {
   "cell_type": "code",
   "execution_count": 92,
   "metadata": {
    "collapsed": false
   },
   "outputs": [
    {
     "name": "stdout",
     "output_type": "stream",
     "text": [
      "Epoch:11 Loss(D) 1.4499 Loss(G) 0.67169\n",
      "Epoch:12 Loss(D) 1.42604 Loss(G) 0.672659\n",
      "Epoch:13 Loss(D) 1.43861 Loss(G) 0.671837\n",
      "Epoch:14 Loss(D) 1.44657 Loss(G) 0.671813\n",
      "Epoch:15 Loss(D) 1.44773 Loss(G) 0.672474\n",
      "Epoch:16 Loss(D) 1.4297 Loss(G) 0.671443\n",
      "Epoch:17 Loss(D) 1.45007 Loss(G) 0.672324\n",
      "Epoch:18 Loss(D) 1.42573 Loss(G) 0.674065\n",
      "Epoch:19 Loss(D) 1.42673 Loss(G) 0.674142\n",
      "Epoch:20 Loss(D) 1.42681 Loss(G) 0.673574\n"
     ]
    }
   ],
   "source": [
    "m.train(train_bf, 10)"
   ]
  },
  {
   "cell_type": "markdown",
   "metadata": {},
   "source": [
    "# Resulting image"
   ]
  },
  {
   "cell_type": "code",
   "execution_count": 106,
   "metadata": {
    "collapsed": false
   },
   "outputs": [
    {
     "data": {
      "image/png": "[encoded data removed]",
      "text/plain": [
       "<matplotlib.figure.Figure at 0x7fb03cf71690>"
      ]
     },
     "metadata": {},
     "output_type": "display_data"
    }
   ],
   "source": [
    "test = m.record[\"generated\"][np.random.randint(50000)][:, :, 0]\n",
    "plt.figure(figsize=(2,2))\n",
    "plt.imshow(test, cmap=\"Greys\")\n",
    "plt.show()"
   ]
  },
  {
   "cell_type": "code",
   "execution_count": null,
   "metadata": {
    "collapsed": true
   },
   "outputs": [],
   "source": []
  }
 ],
 "metadata": {
  "kernelspec": {
   "display_name": "Python 2",
   "language": "python",
   "name": "python2"
  },
  "language_info": {
   "codemirror_mode": {
    "name": "ipython",
    "version": 2
   },
   "file_extension": ".py",
   "mimetype": "text/x-python",
   "name": "python",
   "nbconvert_exporter": "python",
   "pygments_lexer": "ipython2",
   "version": "2.7.13"
  }
 },
 "nbformat": 4,
 "nbformat_minor": 2
}
